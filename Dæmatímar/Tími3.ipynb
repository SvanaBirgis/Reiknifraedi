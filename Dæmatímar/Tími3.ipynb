{
  "nbformat": 4,
  "nbformat_minor": 0,
  "metadata": {
    "colab": {
      "provenance": [],
      "authorship_tag": "ABX9TyM9LXu5VnFqnNzhqc51TQP1",
      "include_colab_link": true
    },
    "kernelspec": {
      "name": "python3",
      "display_name": "Python 3"
    },
    "language_info": {
      "name": "python"
    }
  },
  "cells": [
    {
      "cell_type": "markdown",
      "metadata": {
        "id": "view-in-github",
        "colab_type": "text"
      },
      "source": [
        "<a href=\"https://colab.research.google.com/github/SvanaBirgis/Reiknifraedi/blob/main/D%C3%A6mat%C3%ADmar/T%C3%ADmi3.ipynb\" target=\"_parent\"><img src=\"https://colab.research.google.com/assets/colab-badge.svg\" alt=\"Open In Colab\"/></a>"
      ]
    },
    {
      "cell_type": "markdown",
      "source": [
        "# 3F. Viðsnúningur lista"
      ],
      "metadata": {
        "id": "zdkmuzc90Eud"
      }
    },
    {
      "cell_type": "code",
      "execution_count": 1,
      "metadata": {
        "colab": {
          "base_uri": "https://localhost:8080/"
        },
        "id": "rBsjp3saz7_C",
        "outputId": "b2cc2f9a-fd0e-49eb-dcca-d4b4e0783b4d"
      },
      "outputs": [
        {
          "output_type": "stream",
          "name": "stdout",
          "text": [
            "[2, 3, 4]\n",
            "[2, 3, 4, 1]\n",
            "[3, 99, 15]\n",
            "[4, 3, 2, 1]\n",
            "[99, 3, 15]\n"
          ]
        }
      ],
      "source": [
        "# Verkefni 3F (Viðsnúningur lista)\n",
        "def hali(L):\n",
        "  L.pop(0)\n",
        "L = [1,2,3,4]\n",
        "hali(L)\n",
        "print(L)\n",
        "\n",
        "def hausaftast(L):\n",
        "  haus = L.pop(0)\n",
        "  L.append(haus)\n",
        "  \n",
        "L = [1,2,3,4]\n",
        "hausaftast(L)\n",
        "print(L)\n",
        "\n",
        "afm = [15,3,99]\n",
        "hausaftast(afm)\n",
        "print(afm)\n",
        " \n",
        "def snúavið(L):\n",
        "  n = len(L)\n",
        "  M = []\n",
        "  for i in range(n-1, -1, -1):\n",
        "    M.append(L[i])\n",
        "  return M\n",
        "\n",
        "L2 = snúavið([1,2,3,4])\n",
        "print(L2)\n",
        "L3 = snúavið([15,3,99])\n",
        "print(L3)\n"
      ]
    },
    {
      "cell_type": "markdown",
      "source": [
        "#6. Meðaltal og staðalfrávik\n"
      ],
      "metadata": {
        "id": "-pvR1Kqh0HQd"
      }
    },
    {
      "cell_type": "code",
      "source": [
        "import math \n",
        "def tölfræði(x):\n",
        "  n = len(x)\n",
        "  m = sum(x) / n\n",
        "  s = math.sqrt(sum([(i-m)**2 for i in x]) / (n-1))\n",
        "  return [m, s]\n",
        "     #m = (1/n)*math.sum(n-1, i=0)*x*[i]\n",
        "\n",
        "print(tölfræði([3,7,7,1]))\n",
        "tölfræði([15,3,99])"
      ],
      "metadata": {
        "colab": {
          "base_uri": "https://localhost:8080/"
        },
        "id": "Kg8QWsW20K83",
        "outputId": "7358d467-de7c-410f-9b38-e39703eeea7b"
      },
      "execution_count": 2,
      "outputs": [
        {
          "output_type": "stream",
          "name": "stdout",
          "text": [
            "[4.5, 3.0]\n"
          ]
        },
        {
          "output_type": "execute_result",
          "data": {
            "text/plain": [
              "[39.0, 52.306787322488084]"
            ]
          },
          "metadata": {},
          "execution_count": 2
        }
      ]
    },
    {
      "cell_type": "markdown",
      "source": [
        "#9. Innsetningarröðun og Pythontutor"
      ],
      "metadata": {
        "id": "BRvEMxHx0I_W"
      }
    },
    {
      "cell_type": "code",
      "source": [
        "def insertsort(A):\n",
        "  i = 1\n",
        "  while i < len(A):\n",
        "    j = i\n",
        "    while j > 0 and A[j-1] > A[j]:\n",
        "        A[j-1],A[j] = A[j],A[j-1]\n",
        "        j -= 1\n",
        "    i += 1\n",
        "  return A\n",
        "\n",
        "insertsort([3,8,1,2,5,4])"
      ],
      "metadata": {
        "colab": {
          "base_uri": "https://localhost:8080/"
        },
        "id": "Gmli1Xg20Lnk",
        "outputId": "d418d4e2-c1d1-44e9-db8d-d975989cdb87"
      },
      "execution_count": 3,
      "outputs": [
        {
          "output_type": "execute_result",
          "data": {
            "text/plain": [
              "[1, 2, 3, 4, 5, 8]"
            ]
          },
          "metadata": {},
          "execution_count": 3
        }
      ]
    }
  ]
}