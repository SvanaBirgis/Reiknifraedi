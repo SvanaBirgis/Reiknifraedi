{
  "nbformat": 4,
  "nbformat_minor": 0,
  "metadata": {
    "colab": {
      "provenance": [],
      "authorship_tag": "ABX9TyOay/4yT2cz0Qu64LjqLFsk",
      "include_colab_link": true
    },
    "kernelspec": {
      "name": "python3",
      "display_name": "Python 3"
    },
    "language_info": {
      "name": "python"
    }
  },
  "cells": [
    {
      "cell_type": "markdown",
      "metadata": {
        "id": "view-in-github",
        "colab_type": "text"
      },
      "source": [
        "<a href=\"https://colab.research.google.com/github/SvanaBirgis/Reiknifraedi/blob/main/D%C3%A6mat%C3%ADmar/T%C3%ADmi2.ipynb\" target=\"_parent\"><img src=\"https://colab.research.google.com/assets/colab-badge.svg\" alt=\"Open In Colab\"/></a>"
      ]
    },
    {
      "cell_type": "markdown",
      "source": [
        "# 1. Annars stigs jafna "
      ],
      "metadata": {
        "id": "LEbNaVcvsx01"
      }
    },
    {
      "cell_type": "code",
      "execution_count": null,
      "metadata": {
        "colab": {
          "base_uri": "https://localhost:8080/"
        },
        "id": "TzP2fRyNsbDJ",
        "outputId": "17535e3f-bf72-4fb5-da3f-eb195afd59bd"
      },
      "outputs": [
        {
          "output_type": "stream",
          "name": "stdout",
          "text": [
            "Sláðu inn tölu fyrir a: 8\n",
            "Sláðu inn tölu fyrir b: 10\n",
            "Sláðu inn tölu fyrir c: 2\n",
            "Reiknum það sem er undir kvaðratrótinni, (b^2)-4ac, og fáum:  36.0\n",
            "Lausnirnar eru: -1.0  og  -0.25\n"
          ]
        }
      ],
      "source": [
        "'''skilar lausn annars stigs jöfnu'''\n",
        "\n",
        "import math \n",
        "\n",
        "def quadratic_equation():\n",
        "\n",
        "  a = float(input('Sláðu inn tölu fyrir a: '))\n",
        "  b = float(input('Sláðu inn tölu fyrir b: '))\n",
        "  c = float(input('Sláðu inn tölu fyrir c: '))\n",
        "\n",
        "  # ef a=0\n",
        "  if a==0:\n",
        "    if b!=0:\n",
        "      x = -c/b\n",
        "      print('Fyrsta stigs jafna, {}x+{}=0, með lausnina: {} '.format(b, c, x))\n",
        "\n",
        "  # reikna d\n",
        "  else:\n",
        "    d = (b**2) - (4*a*c)\n",
        "    print('Reiknum það sem er undir kvaðratrótinni, (b^2)-4ac, og fáum: ', d)\n",
        "\n",
        "    # ef d<0\n",
        "    if d<0:\n",
        "      print('engin lausn')\n",
        "\n",
        "    # ef d=0\n",
        "    if d==0:\n",
        "      x = -b/2*a\n",
        "      print('Þar sem d=0 fæst aðeins ein lausn, x=-b/2a:',  x)\n",
        "\n",
        "    # ef d>0\n",
        "    if d>0:\n",
        "      x1 = (-b-math.sqrt(d))/(2*a)\n",
        "      x2 = (-b+math.sqrt(d))/(2*a)\n",
        "      print('Lausnirnar eru:', x1, ' og ', x2)\n",
        "\n",
        "\n",
        "quadratic_equation()"
      ]
    },
    {
      "cell_type": "markdown",
      "source": [
        "#2. Töluleg heildun\n",
        "## A. Samsett trapisuregla"
      ],
      "metadata": {
        "id": "ky5l7RZ9tOIA"
      }
    },
    {
      "cell_type": "code",
      "source": [
        "import math \n",
        "\n",
        "def g(x): \n",
        "  return math.sin(x)/x\n",
        "def h(x): \n",
        "  return math.exp(x)\n",
        "\n",
        "def trap(f, a, b, n):\n",
        "  dx = (b-a)/n  \n",
        "  s = f(a) + f(b)\n",
        "  for i in range(1, n):\n",
        "    xi = a + i * dx\n",
        "    s += 2*f(xi)\n",
        "  return dx/2 * s\n",
        "\n",
        "T1 = trap(g,1,2,4)\n",
        "T2 = trap(h,0,1,4)\n",
        "print(f'T1 = {T1:.7f} og T2 = {T2:.7f}')\n",
        "T3 = trap(g,1,2,3000)\n",
        "T4 = trap(h,0,1,3000)\n",
        "print(f'T3 = {T3:.7f} og T4 = {T4:.7f}')\n",
        "\n",
        "# rétt gildi 0.6593299 1.7182818"
      ],
      "metadata": {
        "colab": {
          "base_uri": "https://localhost:8080/"
        },
        "id": "BgRrJ9aotQMD",
        "outputId": "c8dfc7bc-afe0-4bbe-9ad9-0952a7e9e32b"
      },
      "execution_count": null,
      "outputs": [
        {
          "output_type": "stream",
          "name": "stdout",
          "text": [
            "T1 = 0.6586305 og T2 = 1.7272219\n",
            "T3 = 0.6593299 og T4 = 1.7182818\n"
          ]
        }
      ]
    },
    {
      "cell_type": "markdown",
      "source": [
        "# 5. Kvaðratrót"
      ],
      "metadata": {
        "id": "YM2VKOfJt3jS"
      }
    },
    {
      "cell_type": "code",
      "source": [
        "#1\n",
        "import math\n",
        "def krót(a):\n",
        "  x = 1\n",
        "  y = (x + a/x)/2\n",
        "  while True:\n",
        "    x = y\n",
        "    y = (x + a/x)/2\n",
        "    if x == y:\n",
        "      break\n",
        "  return y\n",
        "\n",
        "print(krót(9))\n",
        "krót(10) "
      ],
      "metadata": {
        "colab": {
          "base_uri": "https://localhost:8080/"
        },
        "id": "tzsSOlcDttOF",
        "outputId": "9cd72c42-9dc6-4d94-f0f6-6d5bafc379ee"
      },
      "execution_count": null,
      "outputs": [
        {
          "output_type": "stream",
          "name": "stdout",
          "text": [
            "3.0\n"
          ]
        },
        {
          "output_type": "execute_result",
          "data": {
            "text/plain": [
              "3.162277660168379"
            ]
          },
          "metadata": {},
          "execution_count": 3
        }
      ]
    },
    {
      "cell_type": "code",
      "source": [
        "#2\n",
        "import math\n",
        "def krót(a, eps):\n",
        "  x = 1\n",
        "  y = (x + a/x)/2\n",
        "  count = 0\n",
        "  while True:\n",
        "    x = y\n",
        "    y = (x + a/x)/2\n",
        "    count += 1\n",
        "    if abs(x-y) <= eps:\n",
        "      break\n",
        "  print(f'a = {a} og eps = {eps}')\n",
        "\n",
        "  print(f'lokanálgun: {y:.3f}') \n",
        "  print(f'ítrekanafjöldi: {count}')\n",
        "  print(f'munurinn á réttri kvaðratrót og lokanálgun: {abs(math.sqrt(a)-y)}')\n",
        "  print( )\n",
        "  return y\n",
        " \n",
        "\n",
        "krót(1000000, 0.1)\n",
        "krót(1000000, 0.01)\n",
        "krót(3000000, 0.1)\n",
        "krót(3000000, 0.01)\n",
        "krót(10000000, 0.1)\n",
        "krót(10000000, 0.01)\n",
        "print( )"
      ],
      "metadata": {
        "colab": {
          "base_uri": "https://localhost:8080/"
        },
        "id": "mDvH2Pnqtz8m",
        "outputId": "ce3252d8-c80c-4f7f-fcb1-797db8b877e3"
      },
      "execution_count": null,
      "outputs": [
        {
          "output_type": "stream",
          "name": "stdout",
          "text": [
            "a = 1000000 og eps = 0.1\n",
            "lokanálgun: 1000.000\n",
            "ítrekanafjöldi: 13\n",
            "munurinn á réttri kvaðratrót og lokanálgun: 1.1823431123048067e-11\n",
            "\n",
            "a = 1000000 og eps = 0.01\n",
            "lokanálgun: 1000.000\n",
            "ítrekanafjöldi: 13\n",
            "munurinn á réttri kvaðratrót og lokanálgun: 1.1823431123048067e-11\n",
            "\n",
            "a = 3000000 og eps = 0.1\n",
            "lokanálgun: 1732.051\n",
            "ítrekanafjöldi: 14\n",
            "munurinn á réttri kvaðratrót og lokanálgun: 2.2737367544323206e-13\n",
            "\n",
            "a = 3000000 og eps = 0.01\n",
            "lokanálgun: 1732.051\n",
            "ítrekanafjöldi: 14\n",
            "munurinn á réttri kvaðratrót og lokanálgun: 2.2737367544323206e-13\n",
            "\n",
            "a = 10000000 og eps = 0.1\n",
            "lokanálgun: 3162.278\n",
            "ítrekanafjöldi: 15\n",
            "munurinn á réttri kvaðratrót og lokanálgun: 4.547473508864641e-13\n",
            "\n",
            "a = 10000000 og eps = 0.01\n",
            "lokanálgun: 3162.278\n",
            "ítrekanafjöldi: 15\n",
            "munurinn á réttri kvaðratrót og lokanálgun: 4.547473508864641e-13\n",
            "\n",
            "\n"
          ]
        }
      ]
    },
    {
      "cell_type": "markdown",
      "source": [
        "# 8. Pólhnit"
      ],
      "metadata": {
        "id": "CsAeKnRPvA26"
      }
    },
    {
      "cell_type": "code",
      "source": [
        "#1\n",
        "import math\n",
        "def pol2rec(r, theta):\n",
        "  g = math.radians(theta)\n",
        "  x = r*math.cos(g)\n",
        "  y = r*math.sin(g)\n",
        "  return x, y\n",
        "\n",
        "x,y = pol2rec(4, 35)\n",
        "\n",
        "print(f'{x:.3f}')\n",
        "print(f'{y:.3f}')"
      ],
      "metadata": {
        "colab": {
          "base_uri": "https://localhost:8080/"
        },
        "id": "LYoQFsFVvDFW",
        "outputId": "9857d899-4a84-4efc-d938-95240b3cfc36"
      },
      "execution_count": null,
      "outputs": [
        {
          "output_type": "stream",
          "name": "stdout",
          "text": [
            "3.277\n",
            "2.294\n"
          ]
        }
      ]
    },
    {
      "cell_type": "code",
      "source": [
        "#2\n",
        "import math\n",
        "def rec2pol(x, y):\n",
        "  theta = math.degrees(math.atan2(y, x))\n",
        "  r = math.sqrt(x**2+y**2)\n",
        "  return theta, r\n",
        "\n",
        "theta, r = rec2pol(3.277, 2.294)\n",
        "\n",
        "print(f'{r:.4f}')\n",
        "print(f'{theta:.3f}')"
      ],
      "metadata": {
        "colab": {
          "base_uri": "https://localhost:8080/"
        },
        "id": "ukQMzSN5vGb9",
        "outputId": "60c24abc-87c1-4794-ce21-d971307f8235"
      },
      "execution_count": null,
      "outputs": [
        {
          "output_type": "stream",
          "name": "stdout",
          "text": [
            "4.0001\n",
            "34.993\n"
          ]
        }
      ]
    }
  ]
}