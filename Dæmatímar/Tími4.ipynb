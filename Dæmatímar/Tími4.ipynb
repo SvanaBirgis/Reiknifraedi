{
  "nbformat": 4,
  "nbformat_minor": 0,
  "metadata": {
    "colab": {
      "provenance": [],
      "authorship_tag": "ABX9TyMWMkZvVH1h06ztOLA8Wdyw",
      "include_colab_link": true
    },
    "kernelspec": {
      "name": "python3",
      "display_name": "Python 3"
    },
    "language_info": {
      "name": "python"
    }
  },
  "cells": [
    {
      "cell_type": "markdown",
      "metadata": {
        "id": "view-in-github",
        "colab_type": "text"
      },
      "source": [
        "<a href=\"https://colab.research.google.com/github/SvanaBirgis/Reiknifraedi/blob/main/D%C3%A6mat%C3%ADmar/T%C3%ADmi4.ipynb\" target=\"_parent\"><img src=\"https://colab.research.google.com/assets/colab-badge.svg\" alt=\"Open In Colab\"/></a>"
      ]
    },
    {
      "cell_type": "markdown",
      "source": [
        "# Æfing í kafla 6.1"
      ],
      "metadata": {
        "id": "gDrYmObV38m9"
      }
    },
    {
      "cell_type": "code",
      "execution_count": 9,
      "metadata": {
        "colab": {
          "base_uri": "https://localhost:8080/"
        },
        "id": "KRoQ_4ks3p_B",
        "outputId": "2857bc4d-7f66-4a7a-94a2-7a43445f05c1"
      },
      "outputs": [
        {
          "output_type": "execute_result",
          "data": {
            "text/plain": [
              "((5, 3, 8, 2, 5), {2, 3, 5, 8}, [2, 3, 5, 5, 8])"
            ]
          },
          "metadata": {},
          "execution_count": 9
        }
      ],
      "source": [
        "#1\n",
        "L = [5,3,8,2,5]\n",
        "s = tuple(L)\n",
        "m = set(L)\n",
        "raðað = sorted(L)\n",
        "s,m,raðað"
      ]
    },
    {
      "cell_type": "code",
      "source": [
        "#2\n",
        "L = list(\"abc\")\n",
        "L"
      ],
      "metadata": {
        "colab": {
          "base_uri": "https://localhost:8080/"
        },
        "id": "3bkqsVN74DEN",
        "outputId": "773127c8-ee1d-4c6e-ce29-b93399cd851b"
      },
      "execution_count": 10,
      "outputs": [
        {
          "output_type": "execute_result",
          "data": {
            "text/plain": [
              "['a', 'b', 'c']"
            ]
          },
          "metadata": {},
          "execution_count": 10
        }
      ]
    },
    {
      "cell_type": "code",
      "source": [
        "#3 \n",
        "\"Afi minn og amma mín\".split()"
      ],
      "metadata": {
        "colab": {
          "base_uri": "https://localhost:8080/"
        },
        "id": "DOrNAok84Dwd",
        "outputId": "88e0bff2-2ae5-454b-8558-58e331f9d205"
      },
      "execution_count": 11,
      "outputs": [
        {
          "output_type": "execute_result",
          "data": {
            "text/plain": [
              "['Afi', 'minn', 'og', 'amma', 'mín']"
            ]
          },
          "metadata": {},
          "execution_count": 11
        }
      ]
    },
    {
      "cell_type": "code",
      "source": [
        "#4\n",
        "E = enumerate(L)\n",
        "print(E, list(E))"
      ],
      "metadata": {
        "colab": {
          "base_uri": "https://localhost:8080/"
        },
        "id": "OYkH0PFL4G1n",
        "outputId": "3fdf2cdd-e176-4307-d2b7-94c886e13456"
      },
      "execution_count": 12,
      "outputs": [
        {
          "output_type": "stream",
          "name": "stdout",
          "text": [
            "<enumerate object at 0x7f1bdb3eed80> [(0, 'a'), (1, 'b'), (2, 'c')]\n"
          ]
        }
      ]
    },
    {
      "cell_type": "code",
      "source": [
        "#5\n",
        "Nöfn = [\"Ari\", \"Bjarni\", \"Ceres\"]\n",
        "E = zip(L, Nöfn)\n",
        "print(E, list(E))"
      ],
      "metadata": {
        "colab": {
          "base_uri": "https://localhost:8080/"
        },
        "id": "QnlbCe7Q4IVe",
        "outputId": "cf84dc02-1a2b-41a5-eaf6-d96c23b743c3"
      },
      "execution_count": 13,
      "outputs": [
        {
          "output_type": "stream",
          "name": "stdout",
          "text": [
            "<zip object at 0x7f1bd85f3580> [('a', 'Ari'), ('b', 'Bjarni'), ('c', 'Ceres')]\n"
          ]
        }
      ]
    },
    {
      "cell_type": "markdown",
      "source": [
        "# Æfing í kafla 7.6"
      ],
      "metadata": {
        "id": "FjuckbY84MWL"
      }
    },
    {
      "cell_type": "code",
      "source": [
        "# Æfing í kafla 7.6 (Uppfletting á formúlu)\n",
        "\n",
        "m = list(range(0,6))\n",
        "\n",
        "#leið 1 - einföld lykkja\n",
        "T = {}\n",
        "for mi in m:\n",
        "  T[mi] = mi**2 - 2*mi\n",
        "print(T)\n",
        "print()\n",
        "\n",
        "#leið 2 - zip og yfirgrip\n",
        "\n",
        "T = dict(zip(m, [mi**2 - 2*mi for mi in range(6)]))\n",
        "\n",
        "print(T)\n",
        "print()\n",
        "\n",
        "#leið 3 - uppflettistöflu yfirgrip / dictionary comprehension\n",
        "\n",
        "T = {mi: mi**2 - 2*mi for mi in range(6)}\n",
        "print(T)"
      ],
      "metadata": {
        "colab": {
          "base_uri": "https://localhost:8080/"
        },
        "id": "5opLxzcK4ss7",
        "outputId": "99c5dfb2-ba10-4d13-ad24-e02d4fd3f9bb"
      },
      "execution_count": 15,
      "outputs": [
        {
          "output_type": "stream",
          "name": "stdout",
          "text": [
            "{0: 0, 1: -1, 2: 0, 3: 3, 4: 8, 5: 15}\n",
            "\n",
            "{0: 0, 1: -1, 2: 0, 3: 3, 4: 8, 5: 15}\n",
            "\n",
            "{0: 0, 1: -1, 2: 0, 3: 3, 4: 8, 5: 15}\n"
          ]
        }
      ]
    },
    {
      "cell_type": "markdown",
      "source": [
        "# Verkefni með bæjum á höfuðborgarsvæðinu."
      ],
      "metadata": {
        "id": "ITBejrov4--8"
      }
    },
    {
      "cell_type": "code",
      "source": [
        "m = [\"Reykjavík\", \"Seltjarnarnes\", \"Mosfellsbær\", \"Kópavogur\", \"Garðabær\", \"Hafnarfjörður\"]\n",
        "m.sort()\n",
        "m"
      ],
      "metadata": {
        "colab": {
          "base_uri": "https://localhost:8080/"
        },
        "id": "cjDM8gyX4O63",
        "outputId": "de6c8e42-b4bb-49ba-abef-dda7218efc2b"
      },
      "execution_count": 16,
      "outputs": [
        {
          "output_type": "execute_result",
          "data": {
            "text/plain": [
              "['Garðabær',\n",
              " 'Hafnarfjörður',\n",
              " 'Kópavogur',\n",
              " 'Mosfellsbær',\n",
              " 'Reykjavík',\n",
              " 'Seltjarnarnes']"
            ]
          },
          "metadata": {},
          "execution_count": 16
        }
      ]
    },
    {
      "cell_type": "code",
      "source": [
        "U = {x: m[x-1] for x in range(1,7)}\n",
        "U"
      ],
      "metadata": {
        "colab": {
          "base_uri": "https://localhost:8080/"
        },
        "id": "jnDao4Dd5dWv",
        "outputId": "f88fddaa-efc9-4c1a-865d-490bf015e7e1"
      },
      "execution_count": 17,
      "outputs": [
        {
          "output_type": "execute_result",
          "data": {
            "text/plain": [
              "{1: 'Garðabær',\n",
              " 2: 'Hafnarfjörður',\n",
              " 3: 'Kópavogur',\n",
              " 4: 'Mosfellsbær',\n",
              " 5: 'Reykjavík',\n",
              " 6: 'Seltjarnarnes'}"
            ]
          },
          "metadata": {},
          "execution_count": 17
        }
      ]
    }
  ]
}