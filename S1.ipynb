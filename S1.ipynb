{
  "nbformat": 4,
  "nbformat_minor": 0,
  "metadata": {
    "colab": {
      "name": "S1",
      "provenance": [],
      "toc_visible": true,
      "collapsed_sections": []
    },
    "kernelspec": {
      "name": "python3",
      "display_name": "Python 3"
    },
    "language_info": {
      "name": "python"
    }
  },
  "cells": [
    {
      "cell_type": "markdown",
      "source": [
        "## Æfing: Sveiflutími gorms í kafla 4.8"
      ],
      "metadata": {
        "id": "hmxWjUluMluy"
      }
    },
    {
      "cell_type": "markdown",
      "source": [
        "a) Skrifið fall sveifla(m,k1,k2) sem reiknar sveiflutímann. Pí fæst með math.pi."
      ],
      "metadata": {
        "id": "Z6BHTXn9gY4y"
      }
    },
    {
      "cell_type": "code",
      "execution_count": null,
      "metadata": {
        "id": "-zN5ixyMKHqC"
      },
      "outputs": [],
      "source": [
        "import math\n",
        "\n",
        "def sveifla(m,k1,k2):\n",
        "  T = 2*math.pi*math.sqrt(m/(k1+k2))\n",
        "  return T"
      ]
    },
    {
      "cell_type": "markdown",
      "source": [
        "b) Skrifið forrit sem prófar fallið með m = 2, k1 = 3 og k2 = 4, og skrifar út sveiflutímann á sniðinu T = x.xxx (með f-streng)."
      ],
      "metadata": {
        "id": "5AtG-FOvgiBx"
      }
    },
    {
      "cell_type": "code",
      "source": [
        "m=2\n",
        "k1=3\n",
        "k2=4\n",
        "print(f'T = {sveifla(m, k1, k2):.3f}')"
      ],
      "metadata": {
        "colab": {
          "base_uri": "https://localhost:8080/"
        },
        "id": "fyMypZUGKbCI",
        "outputId": "8ab44f0d-0f31-48d1-da12-471a382f5655"
      },
      "execution_count": null,
      "outputs": [
        {
          "output_type": "stream",
          "name": "stdout",
          "text": [
            "T = 3.359\n"
          ]
        }
      ]
    },
    {
      "cell_type": "markdown",
      "source": [
        "## Verkefni V1, Annars stigs jafna í fyrirlestrarnótum "
      ],
      "metadata": {
        "id": "EeT061pSMs-G"
      }
    },
    {
      "cell_type": "markdown",
      "source": [
        "Skrifið forrit sem leysir annars stigs jöfnu\n",
        "\n",
        "$ax^2+ bx+ c = 0$\n",
        "\n",
        "Fallið á að lesa inn 𝑎, 𝑏 og 𝑐 með input-skipunum (með viðeigandi beiðnum til notanda). Ef jafnan hefur tvær lausnir á forritið að skrifa „Lausnirnar eru:“ og síðan lausnirnar, ef hún hefur eina lausn á að skrifa hana með viðeigandi skýringu og ef engin lausn er skal skrifa skilaboð um það. Lausn eða lausnir eru gefnar með formúlunni\n",
        "\n",
        "$x = \\frac{-b \\pm \\sqrt{b^2 - 4ac}}{2a}$\n",
        "\n",
        "Ef stærðin undir kvaðratrótinni er neikvæð þá er engin lausn, ef hún er núll er ein lausn, annars tvær. Gerið auk þess ráð fyrir þeim möguleika að 𝑎 sé 0. Ef 𝑏 er ekki líka 0 þá er jafnan fyrsta stigs og forritið á að skrifa að svo sé, ásamt lausninni (sem er þá ein). Látið 𝑏 og 𝑐 vera gefin með afmælisdegi ykkar (dagur og mánuður) og prófið forritið fyrir fjórar mismunandi jöfnur, fyrsta stigs jöfnuna $𝑏𝑥+𝑐=0$ og annars stigs jöfnur sem hafa enga, eina og tvær lausnir þar á meðal jöfnuna $x^2+ bx+ c = 0$. Setjið viðeigandi skjölunarstreng fremst í forritið."
      ],
      "metadata": {
        "id": "4UtwOvlmg0h9"
      }
    },
    {
      "cell_type": "code",
      "source": [
        "'''skilar lausn annars stigs jöfnu'''\n",
        "\n",
        "import math \n",
        "\n",
        "def quadratic_equation():\n",
        "\n",
        "  a = float(input('Sláðu inn tölu fyrir a: '))\n",
        "  b = float(input('Sláðu inn tölu fyrir b: '))\n",
        "  c = float(input('Sláðu inn tölu fyrir c: '))\n",
        "\n",
        "  # ef a=0\n",
        "  if a==0:\n",
        "    if b!=0:\n",
        "      x = -c/b\n",
        "      print('Fyrsta stigs jafna, {}x+{}=0, með lausnina: {} '.format(b, c, x))\n",
        "\n",
        "  # reikna d\n",
        "  else:\n",
        "    d = (b**2) - (4*a*c)\n",
        "    print('Reiknum það sem er undir kvaðratrótinni, (b^2)-4ac, og fáum: ', d)\n",
        "\n",
        "    # ef d<0\n",
        "    if d<0:\n",
        "      print('engin lausn')\n",
        "\n",
        "    # ef d=0\n",
        "    if d==0:\n",
        "      x = -b/2*a\n",
        "      print('Þar sem d=0 fæst aðeins ein lausn, x=-b/2a:',  x)\n",
        "\n",
        "    # ef d>0\n",
        "    if d>0:\n",
        "      x1 = (-b-math.sqrt(d))/(2*a)\n",
        "      x2 = (-b+math.sqrt(d))/(2*a)\n",
        "      print('Lausnirnar eru:', x1, ' og ', x2)\n",
        "\n",
        "\n",
        "quadratic_equation()"
      ],
      "metadata": {
        "colab": {
          "base_uri": "https://localhost:8080/"
        },
        "id": "nR45hDVzM0AP",
        "outputId": "2a189174-4557-4e7c-fd69-c96f5a4394c8"
      },
      "execution_count": null,
      "outputs": [
        {
          "output_type": "stream",
          "name": "stdout",
          "text": [
            "Sláðu inn tölu fyrir a: 0\n",
            "Sláðu inn tölu fyrir b: 15\n",
            "Sláðu inn tölu fyrir c: 3\n",
            "Fyrsta stigs jafna, 15.0x+3.0=0, með lausnina: -0.2 \n"
          ]
        }
      ]
    },
    {
      "cell_type": "code",
      "source": [
        "quadratic_equation()"
      ],
      "metadata": {
        "colab": {
          "base_uri": "https://localhost:8080/"
        },
        "id": "9aSh9asQWbXK",
        "outputId": "469ca887-dc19-4fda-8d01-48dd632e099b"
      },
      "execution_count": null,
      "outputs": [
        {
          "output_type": "stream",
          "name": "stdout",
          "text": [
            "Sláðu inn tölu fyrir a: 20\n",
            "Sláðu inn tölu fyrir b: 15\n",
            "Sláðu inn tölu fyrir c: 3\n",
            "Reiknum það sem er undir kvaðratrótinni, (b^2)-4ac, og fáum:  -15.0\n",
            "engin lausn\n"
          ]
        }
      ]
    },
    {
      "cell_type": "code",
      "source": [
        "quadratic_equation()"
      ],
      "metadata": {
        "colab": {
          "base_uri": "https://localhost:8080/"
        },
        "id": "7g2gK0mHWn6v",
        "outputId": "cac5a532-746e-4878-bde6-9afa43a44700"
      },
      "execution_count": null,
      "outputs": [
        {
          "output_type": "stream",
          "name": "stdout",
          "text": [
            "Sláðu inn tölu fyrir a: 18.75\n",
            "Sláðu inn tölu fyrir b: 15\n",
            "Sláðu inn tölu fyrir c: 3\n",
            "Reiknum það sem er undir kvaðratrótinni, (b^2)-4ac, og fáum:  0.0\n",
            "Þar sem d=0 fæst aðeins ein lausn, x=-b/2a: -140.625\n"
          ]
        }
      ]
    },
    {
      "cell_type": "code",
      "source": [
        "quadratic_equation()"
      ],
      "metadata": {
        "colab": {
          "base_uri": "https://localhost:8080/"
        },
        "id": "UsF9MLoyWkSt",
        "outputId": "b7412930-b7a2-480c-e2bc-58cd233b60b1"
      },
      "execution_count": null,
      "outputs": [
        {
          "output_type": "stream",
          "name": "stdout",
          "text": [
            "Sláðu inn tölu fyrir a: 10\n",
            "Sláðu inn tölu fyrir b: 15\n",
            "Sláðu inn tölu fyrir c: 3\n",
            "Reiknum það sem er undir kvaðratrótinni, (b^2)-4ac, og fáum:  105.0\n",
            "Lausnirnar eru: -1.2623475382979799  og  -0.2376524617020201\n"
          ]
        }
      ]
    }
  ]
}