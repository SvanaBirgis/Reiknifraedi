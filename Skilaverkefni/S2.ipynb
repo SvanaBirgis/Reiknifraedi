{
  "nbformat": 4,
  "nbformat_minor": 0,
  "metadata": {
    "colab": {
      "name": "S2",
      "provenance": [],
      "authorship_tag": "ABX9TyN6pKj9klrXwNp1/kyHcqjs",
      "include_colab_link": true
    },
    "kernelspec": {
      "name": "python3",
      "display_name": "Python 3"
    },
    "language_info": {
      "name": "python"
    }
  },
  "cells": [
    {
      "cell_type": "markdown",
      "metadata": {
        "id": "view-in-github",
        "colab_type": "text"
      },
      "source": [
        "<a href=\"https://colab.research.google.com/github/SvanaBirgis/Reiknifraedi/blob/main/Skilaverkefni/S2.ipynb\" target=\"_parent\"><img src=\"https://colab.research.google.com/assets/colab-badge.svg\" alt=\"Open In Colab\"/></a>"
      ]
    },
    {
      "cell_type": "markdown",
      "source": [
        "# 2 Töluleg heildun\n",
        "\n",
        "## B. Simpsons-regla\n",
        "\n",
        "Skrifa skal forrit til að nálga heildi með svonefndri Simpsons-regla. Í trapisureglu er heildisbilinu skipt í 𝑛 hlutbil, fallið sem heilda skal nálgað með beinum línustrikum og heildi þess nálgað með flatarmálinu undir þessum línustrikum. Í Simpsonsreglu er fallið hinsvegar nálgað (eða brúað eins og það er kallað) með parabólum og heildið nálgað með flatarmálinu undir þeim. \n",
        "\n",
        "Simpsons-formúlan er eftirfarandi:\n",
        "\n",
        "$ ∫^𝑏_𝑎𝑓(𝑥)𝑑𝑥≈ \\frac{Δ𝑥}{3}(𝑓(𝑥_0)+4𝑓(𝑥_1)+2𝑓(𝑥_2)+4𝑓(𝑥_3)+2𝑓(𝑥_4)+⋯+4𝑓(𝑥_{𝑛−1})+𝑓(𝑥_𝑛)) $\n",
        "\n",
        "þar sem $Δ𝑥$ og $𝑥_𝑖$ eru eins og í A-lið og 𝑛 er slétt tala.\n",
        "\n",
        "Skrifið fall **simpson(f,a,b,n)** sem nálgar heildið af **f** frá **a** til **b** með samsettri Simpsons-reglu með **n** hlutbilum.\n",
        "\n",
        "Prófið með heildunum (∗) og (∗∗) úr A-lið með 4 hlutbilum. Ef rétt er forritað ætti að fást (∗) 0.65933 og (∗∗) 1.71832. Kannið líka hve stórt 𝑛 þarf að vera til að fá alla 7 aukastafina sem gefnir eru í töflunni í A lið rétta. Heildið a‘ lokum eitthvert sjálfvalið fall þar sem afmælisdagur ykkar kemur við sögu.\n"
      ],
      "metadata": {
        "id": "N-jPihCLBt2N"
      }
    },
    {
      "cell_type": "code",
      "execution_count": null,
      "metadata": {
        "colab": {
          "base_uri": "https://localhost:8080/"
        },
        "id": "aZ8Z1GZaBX3l",
        "outputId": "ab9e4d24-ea57-4f5f-cb83-056a4f89eced"
      },
      "outputs": [
        {
          "output_type": "stream",
          "name": "stdout",
          "text": [
            "S1 = 0.65933 og S2 = 1.71832\n",
            "S3 = 0.6593299 og S4 = 1.7182818\n"
          ]
        }
      ],
      "source": [
        "import math \n",
        "\n",
        "def g(x): \n",
        "  return math.sin(x)/x\n",
        "def h(x): \n",
        "  return math.exp(x) \n",
        "\n",
        "def simpson(f, a, b, n):\n",
        "  dx = (b-a)/n  \n",
        "  s = f(a) + f(b) + 4*f(a+1*dx)\n",
        "  for i in range(2, n, 2):\n",
        "    xi = a + i * dx  \n",
        "    xip1 = a + (i + 1) * dx\n",
        "    s += 2*f(xi) + 4*f(xip1)\n",
        "  return dx/3 * s  \n",
        "\n",
        "S1 = simpson(g,1,2,4)\n",
        "S2 = simpson(h,0,1,4)\n",
        "print(f'S1 = {S1:.5f} og S2 = {S2:.5f}')\n",
        "S3 = simpson(g,1,2,26)\n",
        "S4 = simpson(h,0,1,26)\n",
        "print(f'S3 = {S3:.7f} og S4 = {S4:.7f}')\n",
        "\n",
        "# rétt gildi í efra er 0.65933 1.71832\n",
        "# rétt gildi í neðra 0.6593299 1.7182818\n"
      ]
    },
    {
      "cell_type": "code",
      "source": [
        "import math \n",
        "\n",
        "#heilda x^3+15x+99 á bilinu 0 til 1\n",
        "\n",
        "def sjalf(x):\n",
        "  return x**3 + 15*x + 99\n",
        "\n",
        "lausn = simpson(sjalf, 0, 1, 100)\n",
        "print(f'Lausn = {lausn}')"
      ],
      "metadata": {
        "colab": {
          "base_uri": "https://localhost:8080/"
        },
        "id": "nkWyU1noHXj4",
        "outputId": "6de65473-9fb3-4da8-a11a-f9b94b516be4"
      },
      "execution_count": null,
      "outputs": [
        {
          "output_type": "stream",
          "name": "stdout",
          "text": [
            "Lausn = 106.75\n"
          ]
        }
      ]
    },
    {
      "cell_type": "markdown",
      "source": [
        "# 3 Ýmis dæmi\n",
        "\n",
        "## A. Hitastigum breytt\n",
        "\n",
        "Hitastig í Fahrenheitgáðum er $𝑇_𝐹 = \\frac{9}{5}𝑇_𝐶+32$ þar sem $𝑇_𝐶$ er hitastigið í Celcíusgráðum. Skrifið forrit sem skrifar út töflu til að breyta milli skalanna sem nær frá $–30^o𝐶$ til $50^o𝐶$ og hleypur á $5^o𝐶$.\n",
        "Taflan gæti byrjað svona:\n",
        "\n",
        "°C  | °F\n",
        "-------------------|------------------\n",
        "-30      | -22\n",
        "-35      | -13\n",
        "-20      | -4\n",
        "-15      | 5"
      ],
      "metadata": {
        "id": "4g8H3IyHIuG8"
      }
    },
    {
      "cell_type": "code",
      "source": [
        "import math \n",
        "\n",
        "#TF = (TC * 9/5) + 32\n",
        "\n",
        "print(\" °C   °F\")\n",
        "print('––––––––––')\n",
        "\n",
        "for TC in range (-30, 51, 5):\n",
        "  print(f'{TC:3}  {TC*9/5+32:>5}')\n"
      ],
      "metadata": {
        "colab": {
          "base_uri": "https://localhost:8080/"
        },
        "id": "KyV2W50QJiEg",
        "outputId": "3ada0c94-a1af-4c77-c5f2-3113958a59a1"
      },
      "execution_count": null,
      "outputs": [
        {
          "output_type": "stream",
          "name": "stdout",
          "text": [
            " °C   °F\n",
            "––––––––––\n",
            "-30  -22.0\n",
            "-25  -13.0\n",
            "-20   -4.0\n",
            "-15    5.0\n",
            "-10   14.0\n",
            " -5   23.0\n",
            "  0   32.0\n",
            "  5   41.0\n",
            " 10   50.0\n",
            " 15   59.0\n",
            " 20   68.0\n",
            " 25   77.0\n",
            " 30   86.0\n",
            " 35   95.0\n",
            " 40  104.0\n",
            " 45  113.0\n",
            " 50  122.0\n"
          ]
        }
      ]
    },
    {
      "cell_type": "markdown",
      "source": [
        "## B. Rætur, lograr, kvaðröt\n",
        "\n",
        "1. Skrifið forritsbút með for-lykkju sem finnur kvaðratrætur, náttúrulega logra, og önnur veldi talnanna 1–10. Notið F-strengi til að skrifa (fallega) töflu yfir niðurstöðuna. Hafið 2 aukastafi í kvaðratrótunum og logrunum.\n",
        "\n",
        "2. Endurtakið með while-lykkju."
      ],
      "metadata": {
        "id": "s0gU59ozKjwE"
      }
    },
    {
      "cell_type": "code",
      "source": [
        "#1\n",
        "import math \n",
        "\n",
        "print('x   sqrt(x)  log(x)   x^2')\n",
        "print('―――――――――――――――–––––––––––')\n",
        "for x in range(1,11):\n",
        "  print(f'{x:<2}   {math.sqrt(x):.2f} {math.log(x):8.2f}  {x**2:5}')\n",
        "\n",
        "\n"
      ],
      "metadata": {
        "colab": {
          "base_uri": "https://localhost:8080/"
        },
        "id": "iPaFb4G2KsVj",
        "outputId": "584f4f19-2b23-4bf1-f925-d81dd14086ca"
      },
      "execution_count": null,
      "outputs": [
        {
          "output_type": "stream",
          "name": "stdout",
          "text": [
            "x   sqrt(x)  log(x)   x^2\n",
            "―――――――――――――――–––––––––––\n",
            "1    1.00     0.00      1\n",
            "2    1.41     0.69      4\n",
            "3    1.73     1.10      9\n",
            "4    2.00     1.39     16\n",
            "5    2.24     1.61     25\n",
            "6    2.45     1.79     36\n",
            "7    2.65     1.95     49\n",
            "8    2.83     2.08     64\n",
            "9    3.00     2.20     81\n",
            "10   3.16     2.30    100\n"
          ]
        }
      ]
    },
    {
      "cell_type": "code",
      "source": [
        "#2\n",
        "import math \n",
        "\n",
        "print('x   sqrt(x)  log(x)   x^2')\n",
        "print('―――――――――――――――–––––––––––')\n",
        "x = 1\n",
        "while x < 11:\n",
        "  print(f'{x:<2}   {math.sqrt(x):.2f} {math.log(x):8.2f}  {x**2:5}')\n",
        "  x += 1\n",
        "  "
      ],
      "metadata": {
        "colab": {
          "base_uri": "https://localhost:8080/"
        },
        "id": "XYEXsWukKxJu",
        "outputId": "d8db2b17-86b4-42d7-b307-d1752450dd06"
      },
      "execution_count": null,
      "outputs": [
        {
          "output_type": "stream",
          "name": "stdout",
          "text": [
            "x   sqrt(x)  log(x)   x^2\n",
            "―――――――――――――――–––––––––––\n",
            "1    1.00     0.00      1\n",
            "2    1.41     0.69      4\n",
            "3    1.73     1.10      9\n",
            "4    2.00     1.39     16\n",
            "5    2.24     1.61     25\n",
            "6    2.45     1.79     36\n",
            "7    2.65     1.95     49\n",
            "8    2.83     2.08     64\n",
            "9    3.00     2.20     81\n",
            "10   3.16     2.30    100\n"
          ]
        }
      ]
    },
    {
      "cell_type": "markdown",
      "source": [
        "## C. Lograr og veldi\n",
        "\n",
        "Til að reikna logra (lógaritma) hefur Python þrjú föll: Náttúrulegur logri fæst með **log(x)**, tíu-logri fæst með **log10(x)** og loks fæst logri með grunntölu 2 með **log2(x)**. Fastinn 𝑒 fæst með **math.e**, og vísisfallið, $𝑒^𝑥$, fæst með **exp(x)**. Reiknið:\n",
        "\n",
        "1. $ln(1)$\n",
        "2. $ln exp(3)$\n",
        "3. $log_{10}1000$\n",
        "4. $log_28$\n",
        "\n",
        "(Ætti að gefa 0, 3, 3 og 3)"
      ],
      "metadata": {
        "id": "pV6ZbmVlK2-3"
      }
    },
    {
      "cell_type": "code",
      "source": [
        "import math\n",
        "\n",
        "# ln(1)\n",
        "print(\"Náttúrulegi logrinn af 1 er: \", end=\"\")\n",
        "print(math.log(1))\n",
        "\n",
        "#ln exp(1)\n",
        "print(\"Náttúrulegi logrinn af e^3 er: \", end=\"\")\n",
        "print(math.log(math.exp(3)))\n",
        "\n",
        "# log_10 1000\n",
        "print(\"Tíu-logrinn af 1000 er: \", end=\"\")\n",
        "print(math.log10(1000))\n",
        "\n",
        "#log_2 8\n",
        "print(\"Logrinn með grunntölu 2 af 8 er: \", end=\"\")\n",
        "print(math.log2(8))"
      ],
      "metadata": {
        "colab": {
          "base_uri": "https://localhost:8080/"
        },
        "id": "e-txPgi4LhFL",
        "outputId": "f2ed5e30-315f-4451-a7f5-8ef4a657956b"
      },
      "execution_count": null,
      "outputs": [
        {
          "output_type": "stream",
          "name": "stdout",
          "text": [
            "Náttúrulegi logrinn af 1 er: 0.0\n",
            "Náttúrulegi logrinn af e^3 er: 3.0\n",
            "Tíu-logrinn af 1000 er: 3.0\n",
            "Logrinn með grunntölu 2 af 8 er: 3.0\n"
          ]
        }
      ]
    },
    {
      "cell_type": "markdown",
      "source": [
        "## D. Rúmmál kúlu\n",
        "\n",
        "Þetta dæmi og það næsta (taflborðið) eru æfingar í útprentun, en ekki síður æfingar í að byggja upp forrit úr minni einingum, sem maður prófar hverja fyrir sig og setur svo saman.\n",
        "\n",
        "1. Skrifið Python fall sem reiknar og skilar rúmmáli kúlu með radíus r. Prófið með kúlu með radíus 2 (ætti að skila 33.51)\n",
        "\n",
        "2. Skrifið fall sem reiknar og skilar radíus hrings með gefið ummál. Prófið.\n",
        "\n",
        "3. Skrifið fall sem tekur inn eðlismassa hlutar í $g/cm^3$ og rúmmáli hans í $m^3$ og skilar þyngd hans í kg. Notið fallið til að reikna þyngd gulltenings sem er 20 cm á kant (eðlismassi gulls er 19.30; ætti að skila 154.4 kg).\n",
        "\n",
        "4. Jörðin er um það bil kúla með ummál 40 þúsund km og eðlisþyngd hennar er $5.5 g/cm^3$. Notið föllin í liðum 1–3 til að finna massa jarðar í tonnum.\n",
        "\n",
        "Látið öll forritin skrifa stuttan skýringartexta með því sem er prentað."
      ],
      "metadata": {
        "id": "-ReEoR7bLjsP"
      }
    },
    {
      "cell_type": "code",
      "source": [
        "#1\n",
        "def rúmmál(r):\n",
        "  '''skilar rúmmáli kúlu með radíus r'''\n",
        "  pí = 3.14159265\n",
        "  R = 4*pí*r**3/3\n",
        "  return R\n",
        "\n",
        "R1 = rúmmál(2)\n",
        "print(f'Rúmmál kúlunnar er {R1:.2f}')"
      ],
      "metadata": {
        "colab": {
          "base_uri": "https://localhost:8080/"
        },
        "id": "68mThQ-NMcIp",
        "outputId": "5f5a7905-8a74-4dbd-a379-d38887919e44"
      },
      "execution_count": null,
      "outputs": [
        {
          "output_type": "stream",
          "name": "stdout",
          "text": [
            "Rúmmál kúlunnar er 33.51\n"
          ]
        }
      ]
    },
    {
      "cell_type": "code",
      "source": [
        "#2\n",
        "def ummál(U):\n",
        "  '''skilar radíus hrings með gefið ummál'''\n",
        "  pi = 3.14159265\n",
        "  r = U/(2*pi)\n",
        "  return r\n",
        "\n",
        "r = ummál(10)\n",
        "print(f\"Radíus hringsins er {r:.4f}\")"
      ],
      "metadata": {
        "colab": {
          "base_uri": "https://localhost:8080/"
        },
        "id": "mNQ3Ammd9hmU",
        "outputId": "6916d706-9f45-4575-aa0b-994048a82233"
      },
      "execution_count": null,
      "outputs": [
        {
          "output_type": "stream",
          "name": "stdout",
          "text": [
            "Radíus hringsins er 1.5915\n"
          ]
        }
      ]
    },
    {
      "cell_type": "code",
      "source": [
        "#3\n",
        "def þyngd(e,R):\n",
        "  #eðlismassi hlutar er í  𝑔/𝑐𝑚3\n",
        "  #rúmmál hans er í 𝑚3\n",
        "  th = (e/1000)*(R*1000000)\n",
        "  #breyti eðlismassa í kg/cm3 og rúmmáli í cm3\n",
        "  return th\n",
        "\n",
        "th = þyngd(19.30, 0.008)\n",
        "print(f'Þyngd gullteningsins í kg er {th}')\n"
      ],
      "metadata": {
        "colab": {
          "base_uri": "https://localhost:8080/"
        },
        "id": "focP7RtZ-yTn",
        "outputId": "76183267-c412-4e58-c908-80d5e4882462"
      },
      "execution_count": null,
      "outputs": [
        {
          "output_type": "stream",
          "name": "stdout",
          "text": [
            "Þyngd gullteningsins í kg er 154.4\n"
          ]
        }
      ]
    },
    {
      "cell_type": "code",
      "source": [
        "#4\n",
        "def massi(e,u):\n",
        "  r = ummál(u)\n",
        "  R = rúmmál(r)\n",
        "  th = þyngd(e,R)/1000\n",
        "  return th\n",
        "\n",
        "th = massi(5.5, 40000000)\n",
        "print(f'Massi jarðar í tonnum er {th:e}')"
      ],
      "metadata": {
        "colab": {
          "base_uri": "https://localhost:8080/"
        },
        "id": "ox_a4yL2CRgi",
        "outputId": "109a353a-8e81-4d92-b02a-0932d56c3b58"
      },
      "execution_count": null,
      "outputs": [
        {
          "output_type": "stream",
          "name": "stdout",
          "text": [
            "Massi jarðar í tonnum er 5.944176e+21\n"
          ]
        }
      ]
    },
    {
      "cell_type": "code",
      "source": [
        "#4, einföldun\n",
        "def massi(e,u):\n",
        "  return þyngd(e, rúmmál(ummál(u)))/1000\n",
        "\n",
        "th = massi(5.5, 40000000)\n",
        "print(f'Massi jarðar í tonnum er {th:e}')"
      ],
      "metadata": {
        "colab": {
          "base_uri": "https://localhost:8080/"
        },
        "id": "mx4GdatkKaEt",
        "outputId": "e4fabde6-2682-4dea-ea18-45bc4981d68b"
      },
      "execution_count": null,
      "outputs": [
        {
          "output_type": "stream",
          "name": "stdout",
          "text": [
            "Massi jarðar í tonnum er 5.944176e+21\n"
          ]
        }
      ]
    }
  ]
}