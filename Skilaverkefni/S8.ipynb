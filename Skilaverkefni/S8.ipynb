{
  "nbformat": 4,
  "nbformat_minor": 0,
  "metadata": {
    "colab": {
      "name": "S8",
      "provenance": [],
      "collapsed_sections": [],
      "include_colab_link": true
    },
    "kernelspec": {
      "name": "python3",
      "display_name": "Python 3"
    },
    "language_info": {
      "name": "python"
    }
  },
  "cells": [
    {
      "cell_type": "markdown",
      "metadata": {
        "id": "view-in-github",
        "colab_type": "text"
      },
      "source": [
        "<a href=\"https://colab.research.google.com/github/SvanaBirgis/Reiknifraedi/blob/main/Skilaverkefni/S8.ipynb\" target=\"_parent\"><img src=\"https://colab.research.google.com/assets/colab-badge.svg\" alt=\"Open In Colab\"/></a>"
      ]
    },
    {
      "cell_type": "markdown",
      "metadata": {
        "id": "rInDhIMNh5qK"
      },
      "source": [
        "# **Stærðfræði og reiknifræði vor 2022, skiladæmi 8**"
      ]
    },
    {
      "cell_type": "markdown",
      "source": [
        "Nafn: Svana Björg Birgisdóttir\n",
        "\n",
        "Samverkamenn:"
      ],
      "metadata": {
        "id": "CqV6ZfIpicAY"
      }
    },
    {
      "cell_type": "markdown",
      "source": [
        "# **1. Verkefni 28 - Fjarlægð milli borga**\n",
        "\n",
        "<img src = \"https://cs.hi.is/python/_images/jord.png\">\n",
        "\n",
        "Ef sett er hnitakerfi í gegn um miðju jarðar þá verður þrívíður vigur sem byrjar í miðjunni og endar á stað á yfirborðinu með lengd 𝑙 og breidd 𝑏:\n",
        "\n",
        "\n",
        " \\begin{pmatrix}\n",
        "  R sin(l)cos(b) \\\\\n",
        "  R cos(l)cos(b) \\\\\n",
        "  R sin(b) \n",
        " \\end{pmatrix}\n",
        "\n",
        "\n",
        "\n",
        "þar sem 𝑅 er radíus jarðar, 𝑅≈6370 km. Í stærðfræðigreiningu eru 𝑅, 𝑙 og 𝑏 kölluð kúluhnit (spherical coordinates). Hnattstaða Reykjavíkur er u.þ.b. 64°N og 22°W, og hattstaða London u.þ.b. 51.5°N og 0°W.\n",
        "\n",
        "Horn 𝜃 milli vigra 𝑥 og 𝑦 má reikna með:\n",
        "\n",
        "\n",
        "$𝜃=arccos \\frac{x*y}{||x|| ||y||}$\n",
        "\n",
        "<ol type=\"a\">\n",
        "  <li>Reiknið hornið milli Reykjavíkur og London mælt frá miðju jarðar.</li>\n",
        "  <li>Lengd hringboga í hring með radíus 𝑟 sem spannar horn sem er 𝜃 radíanar er</li>\n",
        "  $L=𝜃r$\n",
        "  \n",
        "  (sbr. [hringbogi á Wikipediu](https://en.wikipedia.org/wiki/Circular_arc)). Reiknið fjarlægðina milli Reykjavíkur og London (Siri segir 1890 km)\n",
        "</ol>\n",
        "\n",
        "Munið að það þarf að breyta gráðum í radíana og öfugt með math.radians og math.degrees (eða np-útgáfum af þessum föllum)\n"
      ],
      "metadata": {
        "id": "qyzKJj0I8RTM"
      }
    },
    {
      "cell_type": "code",
      "source": [
        "#a\n",
        "import numpy as np\n",
        "import numpy.linalg as la\n",
        "from math import radians, cos, sin, asin, acos, sqrt, pi\n",
        "\n",
        "lr = np.deg2rad(-22)\n",
        "ll = np.deg2rad(0)\n",
        "br = np.deg2rad(64)\n",
        "bl = np.deg2rad(51.5)\n",
        "R = 6370\n",
        "\n",
        "x = np.array([R*sin(lr)*cos(br), R*cos(lr)*cos(br), R*sin(br)])\n",
        "\n",
        "y = np.array([R*sin(ll)*cos(bl), R*cos(ll)*cos(bl), R*sin(bl)])\n",
        "\n",
        "horn = np.degrees(acos((x@y)/(la.norm(x)*la.norm(y))))\n",
        "\n",
        "print(f'Hornið milli Reykjavíkur og London er: {horn:.2f}°')\n",
        "\n"
      ],
      "metadata": {
        "id": "xxR-FCAe8_kX",
        "colab": {
          "base_uri": "https://localhost:8080/",
          "height": 0
        },
        "outputId": "339e72fb-994a-45ec-ce2b-96bbc40c7672"
      },
      "execution_count": 48,
      "outputs": [
        {
          "output_type": "stream",
          "name": "stdout",
          "text": [
            "Hornið milli Reykjavíkur og London er: 16.98°\n"
          ]
        }
      ]
    },
    {
      "cell_type": "code",
      "source": [
        "#b\n",
        "\n",
        "L = R*np.deg2rad(horn)\n",
        "\n",
        "print(f'Fjarlægðin milli Reykjavíkur og London er {L:.2f}km')"
      ],
      "metadata": {
        "id": "6Sh48pcXTo4E",
        "colab": {
          "base_uri": "https://localhost:8080/",
          "height": 0
        },
        "outputId": "ef5203dd-39ec-43a0-83ba-29a79ccec72a"
      },
      "execution_count": 49,
      "outputs": [
        {
          "output_type": "stream",
          "name": "stdout",
          "text": [
            "Fjarlægðin milli Reykjavíkur og London er 1887.39km\n"
          ]
        }
      ]
    },
    {
      "cell_type": "markdown",
      "source": [
        "# **2.Verkefni 32 - Leslie-fylki og gröf**\n",
        "\n",
        "Tegund lifir að hámarki í 5 ár. Fæðingartíðni og dánartíðni og upphafleg aldursdreifing er sem hér segir:\n",
        "\n",
        "aldur | fæðinartíðni | dánartíðni | fjöldi\n",
        "------|--------------|------------|-----------\n",
        "0-1   | 0.1          | 0.1        | 100\n",
        "1-2   | 0.3          | 0.1        | 200\n",
        "2-3   | 0.5          | 0.2        | 300\n",
        "3-4   | 0.4          | 0.4        | 200\n",
        "4-5   | 0.1          | 1.0        | 200\n",
        "\n",
        "\n",
        "<ol type=\"a\">\n",
        "  <li>Búið til Lesley-fylki (með NumPy) og ákvarðið stofnstærð í byrjun og á hverju ári næstu sjö ár.</li>\n",
        "  <li> Mun stofninn að lokum deyja út? </li>\n",
        "  <li> Teiknið mynd af fæðingar- og dánartíðninni á þessa leið (línubreidd er 3 punktar): </li>\n",
        "  <img src = \"https://cs.hi.is/python/_images/leslie-graf.jpg\">\n",
        "  <li> Teiknið mynd af þróun stofnstærðarinnar næstu 20 ár </li>\n",
        "</ol>\n"
      ],
      "metadata": {
        "id": "OuGJhCZg0p4M"
      }
    },
    {
      "cell_type": "code",
      "source": [
        "#a\n",
        "\n",
        "L = np.array([[0.1, 0.3, 0.5, 0.4, 0.1],\n",
        "             [0.1, 0, 0, 0, 0],\n",
        "             [0, 0.1, 0, 0, 0],\n",
        "             [0, 0, 0.2, 0, 0],\n",
        "             [0, 0, 0, 0.4, 0]])\n",
        "\n",
        "x0 = np.array([100,200,300,200,200])\n",
        "\n",
        "print(f'Til að byrja með er stofnstærð: {sum(x0)}')\n",
        "\n",
        "x1 = L @ x0\n",
        "print(f'Eftir eitt ár er stofnstærð: {sum(x1)}')\n",
        "\n",
        "x2 = L @ x1\n",
        "print(f'Eftir tvö ár er stofnstærð: {sum(x2)}')\n",
        "\n",
        "x3 = L @ x2\n",
        "print(f'Eftir þrjú ár er stofnstærð: {sum(x3)}')\n",
        "\n",
        "x4 = L @ x3\n",
        "print(f'Eftir fjögur ár er stofnstærð: {sum(x4)}')\n",
        "\n",
        "x5 = L @ x4\n",
        "print(f'Eftir fimm ár er stofnstærð: {sum(x5)}')\n",
        "\n",
        "x6 = L @ x5\n",
        "print(f'Eftir sex ár er stofnstærð: {sum(x6)}')\n",
        "\n",
        "x7 = L @ x6\n",
        "print(f'Eftir sjö ár er stofnstærð: {sum(x7)}')\n",
        "\n"
      ],
      "metadata": {
        "id": "5SEQr-WENA_-",
        "colab": {
          "base_uri": "https://localhost:8080/",
          "height": 0
        },
        "outputId": "93bc0619-72cd-4ee9-e344-373f228ad9fb"
      },
      "execution_count": 50,
      "outputs": [
        {
          "output_type": "stream",
          "name": "stdout",
          "text": [
            "Til að byrja með er stofnstærð: 1000\n",
            "Eftir eitt ár er stofnstærð: 490.0\n",
            "Eftir tvö ár er stofnstærð: 138.0\n",
            "Eftir þrjú ár er stofnstærð: 34.5\n",
            "Eftir fjögur ár er stofnstærð: 10.0\n",
            "Eftir fimm ár er stofnstærð: 3.197\n",
            "Eftir sex ár er stofnstærð: 0.9418\n",
            "Eftir sjö ár er stofnstærð: 0.27873000000000003\n"
          ]
        }
      ]
    },
    {
      "cell_type": "code",
      "source": [
        "#b\n",
        "x700 = la.matrix_power(L, 700) @ x0\n",
        "print(f'Eftir 700 ár er stofnstærð: {sum(x700)}, svo já stofninn mun deyja út')\n"
      ],
      "metadata": {
        "id": "YeRfui1Vvlzc",
        "colab": {
          "base_uri": "https://localhost:8080/",
          "height": 0
        },
        "outputId": "bf2a4184-db92-45c1-e37d-d934929f383f"
      },
      "execution_count": 51,
      "outputs": [
        {
          "output_type": "stream",
          "name": "stdout",
          "text": [
            "Eftir 700 ár er stofnstærð: 0.0, svo já stofninn mun deyja út\n"
          ]
        }
      ]
    },
    {
      "cell_type": "code",
      "source": [
        "#c\n",
        "#Teiknið mynd af fæðingar- og dánartíðninni á þessa leið (línubreidd er 3 punktar)\n",
        "\n",
        "from matplotlib import pyplot as plt\n",
        "\n",
        "plt.figure(figsize=(8,6))\n",
        "\n",
        "ftidni = np.array([np.NaN, 0.1,0.3,0.5,0.4,0.1])\n",
        "dtidni = np.array([np.NaN, 0.1,0.1,0.2,0.4,1.0])\n",
        "\n",
        "plt.plot(ftidni, lw =3, label=\"Fæðingartíðni\")\n",
        "plt.plot(dtidni, lw = 3, label=\"Dánartíðni\")\n",
        "\n",
        "plt.yticks([0.0,0.1,0.2,0.3,0.4,0.5,0.6,0.7,0.8,0.9,1.0])\n",
        "plt.xticks([1,2,3,4,5])\n",
        "plt.xlim(0.8, 5.2)\n",
        "plt.ylim(0.0, 1.0)\n",
        "plt.xlabel('Aldursár')\n",
        "plt.grid(True)\n",
        "plt.legend(loc='best')\n",
        "plt.show()\n"
      ],
      "metadata": {
        "id": "2sTtkVm62pnP",
        "colab": {
          "base_uri": "https://localhost:8080/",
          "height": 392
        },
        "outputId": "98dba34c-f076-458b-b015-28db9356ab3a"
      },
      "execution_count": 67,
      "outputs": [
        {
          "output_type": "display_data",
          "data": {
            "image/png": "[encoded data removed]",
            "text/plain": [
              "<Figure size 576x432 with 1 Axes>"
            ]
          },
          "metadata": {
            "needs_background": "light"
          }
        }
      ]
    },
    {
      "cell_type": "code",
      "source": [
        "#d\n",
        "#Teiknið mynd af þróun stofnstærðarinnar næstu 20 ár\n",
        "\n",
        "def Stofnstaerd(n):\n",
        "  return sum(la.matrix_power(L,n) @ x0)\n",
        "count = 0\n",
        "while Stofnstaerd(count) > 0:\n",
        "  count = count + 1\n",
        "print(count)\n",
        "\n",
        "plt.plot([Stofnstaerd(i) for i in range(21)])\n",
        "plt.grid(True)\n",
        "plt.xlabel('Ár')\n",
        "plt.ylabel('Fjöldi')\n",
        "plt.show()"
      ],
      "metadata": {
        "id": "7DpxuPSn01s3",
        "colab": {
          "base_uri": "https://localhost:8080/",
          "height": 296
        },
        "outputId": "aed7c892-ae7c-4947-8b05-1d9ff1524cd9"
      },
      "execution_count": 55,
      "outputs": [
        {
          "output_type": "stream",
          "name": "stdout",
          "text": [
            "615\n"
          ]
        },
        {
          "output_type": "display_data",
          "data": {
            "image/png": "[encoded data removed]",
            "text/plain": [
              "<Figure size 432x288 with 1 Axes>"
            ]
          },
          "metadata": {
            "needs_background": "light"
          }
        }
      ]
    },
    {
      "cell_type": "markdown",
      "source": [
        "## **3. Verkefni 37 -  Valkvæðir stikar**\n",
        "\n",
        "Föll geta haft **valkvæða stika** sem taka sjálfgefin gildi ef þeim er sleppt. Þannig hefur print-fallið tvo valkvæða stika, sep og end, sbr. kafla 4.4. Eftirfarandi dæmi, sem reiknar n-tu rót, sýnir hvernig hægt er að skilgreina fall með valkvæðan stika. Fallið reiknar kvaðratrót ef seinna viðfanginu er sleppt og prentar því út ``rætur: 4 og 2``.\n",
        "\n",
        "```python\n",
        "import math\n",
        "def rót(x, n=2):  # skilar n-tu rót (n=2 er sjálfgefið)\n",
        "   return x**(1/n)\n",
        "\n",
        "a = rót(16)\n",
        "b = rót(16, 4)\n",
        "print(f\"rætur: {a} og {b}\")\n",
        "```\n",
        "\n",
        "\n",
        "<ol type=\"a\">\n",
        "\n",
        " <il>Skrifið svona fall fyrir logra (logarithm) með grunntölu 𝑎 skv. formúlunni:\n",
        "\n",
        "$log_𝑎(𝑥)=\\frac{ln(x)}{ln(a)}$\n",
        "\n",
        "þar sem ***ln*** er náttúrulegi logrinn, sem í Python er reiknaður með ``math.log(x)``. Látið a vera valkvæðan stika með sjálfgefið gildi 10. Prófið að reikna log10(100), log3(243) og log2(128) sem ætti að gefa 2, 5 og 7. </il>\n",
        "\n",
        " <il>Skrifið fall sem prentar lista af tölum með nauk stöfum fyrir aftan kommu með nauk = 4 sjálfgefið. Ef það fær listann:\n",
        "\n",
        "``[[math.exp(x) for x in range(6)]``\n",
        "\n",
        "og auk = 3 ætti það að prenta út ``[1.000, 2.718, 7.389, 20.086, 54.598, 148.413]``. </il>\n",
        "</ol>\n",
        "\n"
      ],
      "metadata": {
        "id": "0qwGx2_1Nfp2"
      }
    },
    {
      "cell_type": "code",
      "source": [
        "#a\n",
        "import math\n",
        "\n",
        "def logri(x, a):\n",
        "  return math.log(x, a)\n",
        "\n",
        "b = logri(100, 10)\n",
        "c = logri(243, 3)\n",
        "d = logri(128, 2)\n",
        "\n",
        "print(f'log10(100) = {b}, log3(243) = {c:.1f} og log2(128) = {d}')"
      ],
      "metadata": {
        "id": "GLJhNazWNqoY",
        "colab": {
          "base_uri": "https://localhost:8080/",
          "height": 0
        },
        "outputId": "bb9b27b4-7b95-43c6-bc31-2d69c06ca591"
      },
      "execution_count": 59,
      "outputs": [
        {
          "output_type": "stream",
          "name": "stdout",
          "text": [
            "log10(100) = 2.0, log3(243) = 5.0 og log2(128) = 7.0\n"
          ]
        }
      ]
    },
    {
      "cell_type": "code",
      "source": [
        "#b\n",
        "\n",
        "def listi(x, nauk=4):\n",
        "  for v in x:\n",
        "    print(\"%0.*f\" % (nauk, v))\n",
        "\n",
        "\n",
        "listi([math.exp(x) for x in range(6)], 3)"
      ],
      "metadata": {
        "id": "8_D85vCI1ER1",
        "colab": {
          "base_uri": "https://localhost:8080/",
          "height": 0
        },
        "outputId": "f74da1e3-82ce-4889-c7e2-91d4b222f49f"
      },
      "execution_count": 60,
      "outputs": [
        {
          "output_type": "stream",
          "name": "stdout",
          "text": [
            "1.000\n",
            "2.718\n",
            "7.389\n",
            "20.086\n",
            "54.598\n",
            "148.413\n"
          ]
        }
      ]
    }
  ]
}