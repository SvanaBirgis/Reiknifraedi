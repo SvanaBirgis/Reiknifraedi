{
  "nbformat": 4,
  "nbformat_minor": 0,
  "metadata": {
    "colab": {
      "name": "S4",
      "provenance": [],
      "collapsed_sections": [],
      "include_colab_link": true
    },
    "kernelspec": {
      "name": "python3",
      "display_name": "Python 3"
    },
    "language_info": {
      "name": "python"
    }
  },
  "cells": [
    {
      "cell_type": "markdown",
      "metadata": {
        "id": "view-in-github",
        "colab_type": "text"
      },
      "source": [
        "<a href=\"https://colab.research.google.com/github/SvanaBirgis/Reiknifraedi/blob/main/Skilaverkefni/S4.ipynb\" target=\"_parent\"><img src=\"https://colab.research.google.com/assets/colab-badge.svg\" alt=\"Open In Colab\"/></a>"
      ]
    },
    {
      "cell_type": "markdown",
      "metadata": {
        "id": "rInDhIMNh5qK"
      },
      "source": [
        "# Stærðfræði og reiknifræði vor 2022, skiladæmi 4"
      ]
    },
    {
      "cell_type": "markdown",
      "source": [
        "Nafn: Svana Björg Birgisdóttir\n",
        "\n",
        "Samverkamenn:"
      ],
      "metadata": {
        "id": "CqV6ZfIpicAY"
      }
    },
    {
      "cell_type": "markdown",
      "source": [
        "# Verkefni 10 - Skrá með íslenskum orðum \n",
        "\n",
        "Þetta verkefni er lauslega byggt á verkefnum í 9. kafla Think Python kennslubókarinnar. Í skrá með veffang https://cs.hi.is/python/ord.txt eru 217 þúsund íslensk orð. Þið getið skoðað skrána með því að smella á hlekkinn. Í verkefninu sem hér fylgir þarf að nota ýmsar strengjaaðgerðir sem lýst er í kafla 5.2.\n",
        "\n",
        "1. Opnið skrána með urlopen og lesið hana inn eins og sýnt er í kafla 8.2.4. Prentið út fyrstu 5 orðin og líka tíu þúsundasta hvert orð og öll orð sem eru lengri en 30 stafir.\n",
        "\n",
        "2. Spegilorð (palindrome) er orð sem er eins lesið afturábak og áfram (t.d. kajak). Skrifið rökfall spegilorð(s) sem kannar hvort s sé spegilorð [rökfall er fall sem skilar True eða False og prófið. Skrifið í framhaldi út öll spegilorð í skránni, 10 á hverja línu. Fyrsta linan ætti að verða:\n",
        "\n",
        "  abba, afa, aga, agga, aka, ala, alla, ama, amma, ana,\n",
        "\n",
        "3. Finnið þau orð í skránni sem hafa einn sérhljóða og hámarksfjölda samhljóða.\n",
        "\n"
      ],
      "metadata": {
        "id": "qyzKJj0I8RTM"
      }
    },
    {
      "cell_type": "code",
      "source": [
        "#V10a\n",
        "from urllib.request import urlopen\n",
        "f = urlopen(\"https://cs.hi.is/python/ord.txt\")\n",
        "ordin = []\n",
        "\n",
        "for lína in f:\n",
        "  ord = lína.decode().split()\n",
        "  ordin.append(ord[0])\n",
        "\n",
        "for i in ordin[:5]:\n",
        "  print(i, end = \", \")\n",
        "\n",
        "print()\n",
        "\n",
        "for j in ordin[::10000]:\n",
        "  print(j, end = \", \")\n",
        "\n",
        "print()\n",
        "\n",
        "for k in [x for x in ordin if len(x)>30]:\n",
        "  print(k, end = \", \")\n",
        "\n",
        "\n"
      ],
      "metadata": {
        "id": "ifFPCl0q74zP",
        "colab": {
          "base_uri": "https://localhost:8080/"
        },
        "outputId": "d4369ac7-6bff-4e80-fb30-c7601f15c188"
      },
      "execution_count": null,
      "outputs": [
        {
          "output_type": "stream",
          "name": "stdout",
          "text": [
            "abba, abbadís, abbadísar, abbadísarinnar, abbadísartíð, \n",
            "abba, barónett, bókmenntahátíðinni, eldvarpi, flögraði, galdrakver, hafnarverkamaður, hnýttan, illkvittnislegar, konunglegar, leiðbeiningum, margnefndir, nemanna, rammann, sandhólunum, skynsemdar, stjórnast, sólarhring, tötralegur, veðurs, árásargrein, útdauðir, \n",
            "alþjóðaheilbrigðisstofnunarinnar, alþjóðasiglingamálastofnunarinnar, atvinnuleysistryggingasjóðurinn, flugslysarannsóknarnefndarinnar, norðuratlantshafssjávarspendýraráðsins, norðurheimskautsrannsóknaráðsins, teiknimyndaævintýrapoppálfkonan, "
          ]
        }
      ]
    },
    {
      "cell_type": "code",
      "source": [
        "#V10b\n",
        "def spegilorð(s):\n",
        "  revS = s[::-1]\n",
        "  return revS == s\n",
        "\n",
        "spegil = [x for x in ordin if spegilorð(x)]\n",
        "\n",
        "for i in range(len(spegil)):\n",
        "  if i % 10 == 0 and i != 0:\n",
        "    print(\"\\n\")\n",
        "  print(spegil[i], end = \", \")\n",
        "  "
      ],
      "metadata": {
        "id": "xxR-FCAe8_kX",
        "colab": {
          "base_uri": "https://localhost:8080/"
        },
        "outputId": "a2142a22-f595-4b24-83c3-1c5702b4dacc"
      },
      "execution_count": null,
      "outputs": [
        {
          "output_type": "stream",
          "name": "stdout",
          "text": [
            "abba, afa, aga, agga, aka, ala, alla, ama, amma, ana, \n",
            "\n",
            "apa, argra, assa, ata, axa, aða, gíg, gýg, illi, inni, \n",
            "\n",
            "iðaði, iði, kajak, kok, kák, kæk, kók, kúk, mm, muninum, \n",
            "\n",
            "munnum, munum, mununum, mussum, natan, nón, píp, rabbar, radar, raddar, \n",
            "\n",
            "rafar, ragar, rakar, rakkar, rammar, rappar, rasar, rassar, ratar, raðar, \n",
            "\n",
            "rifir, riðir, ruddur, rullur, rumur, runur, rár, rær, rór, rör, \n",
            "\n",
            "rýr, sinnis, stúts, summus, sás, talat, tillit, tæt, uku, ullu, \n",
            "\n",
            "undnu, unnu, unu, uxu, á, æ, í, ísí, ó, óbó, \n",
            "\n",
            "ódó, óró, ý, "
          ]
        }
      ]
    },
    {
      "cell_type": "code",
      "source": [
        "#V10c\n",
        "vowels = \"aáeéiíoóuúyýæöAÁEÉIÍOÓUÚYÝÆÖ\"\n",
        "\n",
        "def isVowel(a):\n",
        "  return a in vowels\n",
        "\n",
        "def specific(word, noCons):\n",
        "  countVow=0\n",
        "  countCons=0\n",
        "\n",
        "  for char in word:\n",
        "    if (isVowel(char)):\n",
        "      countVow+=1\n",
        "    else:\n",
        "      countCons+=1\n",
        "  \n",
        "  return (countVow==1) and (countCons==noCons)\n",
        "\n",
        "def findMaxCons():\n",
        "  noCons = 1\n",
        "  candidate = [x for x in ordin if specific(x, noCons)]\n",
        "  while(candidate):\n",
        "    noCons+=1\n",
        "    candidate = [x for x in ordin if specific(x, noCons)]\n",
        "  \n",
        "  noCons-=1\n",
        "  return noCons\n",
        "\n",
        "maxCons = findMaxCons()\n",
        "\n",
        "specific = [x for x in ordin if specific(x, maxCons)]\n",
        "\n",
        "for i in specific:\n",
        "  print(i, end = \", \")\n",
        "\n",
        "\n"
      ],
      "metadata": {
        "id": "6Sh48pcXTo4E",
        "colab": {
          "base_uri": "https://localhost:8080/"
        },
        "outputId": "a87f15e9-6209-4698-c390-553019f72d15"
      },
      "execution_count": null,
      "outputs": [
        {
          "output_type": "stream",
          "name": "stdout",
          "text": [
            "bhmfólks, skrappst, skyggnst, strengst, "
          ]
        }
      ]
    },
    {
      "cell_type": "markdown",
      "source": [
        "# Verkefni 11a - Fjöldi stafa í skrafli \n",
        "Í þessu verkefni á að búa til töflu yfir hlutfallslega tíðni hvers stafs í skránni ord.txt úr verkefni 10, og jafnframt hvað sú tíðni samsvarar mörgum heilum stöfum af 98, sem er heildarfjöldi stafa í pokanum sem notaður er í borðspilinu skrafli (scrabble). Taflan ætti að byrja svona:\n",
        "\n",
        "    stafur  tíðni  fjöldi\n",
        "    –––––––––––––––––––––\n",
        "      a     9.80%    10\n",
        "      á     1.27%     1\n",
        "      b     1.34%     1"
      ],
      "metadata": {
        "id": "wai47ngF8gjg"
      }
    },
    {
      "cell_type": "code",
      "source": [
        "#V11a\n",
        "from urllib.request import urlopen\n",
        "f = urlopen(\"https://cs.hi.is/python/ord.txt\")\n",
        "\n",
        "print(f'Stafur   Tíðni   Fjöldi')\n",
        "print(f'–––––––––––––––––––––––')\n",
        "\n",
        "L = []\n",
        "allarlínur =  []\n",
        "\n",
        "for lína in f:\n",
        "  ord = lína.decode().split()\n",
        "  allarlínur.append(ord[0])\n",
        "\n",
        "öllord = \"\".join(allarlínur)\n",
        "\n",
        "n = len(öllord)\n",
        "\n",
        "# skilar \"tíðni\" í %\n",
        "def freq(a):\n",
        "  return öllord.count(a)/n*100\n",
        "\n",
        "# skilar \"fjöldi\"\n",
        "def scrabbleFreq(a):\n",
        "  ta = öllord.count(a)/n\n",
        "  return round(ta*98)\n",
        "\n",
        "# fyrir hvern staf í stafrófinu prenta scrabbleFreq af stafnum\n",
        "stafróf = \"aábcdðeéfghiíjklmnoópqrstuúvwxyýzþæö\"\n",
        "for i in range(len(stafróf)):\n",
        "  stafur = stafróf[i]\n",
        "  print(f'  {stafur}      {freq(stafur):.2f}%    {scrabbleFreq(stafur)}')\n"
      ],
      "metadata": {
        "id": "bIeMsCH475Wr",
        "colab": {
          "base_uri": "https://localhost:8080/"
        },
        "outputId": "bcd2a5a8-1348-4520-ceb7-775f7c16796f"
      },
      "execution_count": null,
      "outputs": [
        {
          "output_type": "stream",
          "name": "stdout",
          "text": [
            "Stafur   Tíðni   Fjöldi\n",
            "–––––––––––––––––––––––\n",
            "  a      9.80%    10\n",
            "  á      1.27%    1\n",
            "  b      1.34%    1\n",
            "  c      0.00%    0\n",
            "  d      2.02%    2\n",
            "  ð      3.41%    3\n",
            "  e      4.12%    4\n",
            "  é      0.30%    0\n",
            "  f      2.96%    3\n",
            "  g      4.01%    4\n",
            "  h      1.59%    2\n",
            "  i      7.60%    7\n",
            "  í      0.90%    1\n",
            "  j      1.47%    1\n",
            "  k      3.75%    4\n",
            "  l      5.74%    6\n",
            "  m      3.55%    3\n",
            "  n      9.44%    9\n",
            "  o      1.20%    1\n",
            "  ó      1.51%    1\n",
            "  p      1.15%    1\n",
            "  q      0.00%    0\n",
            "  r      9.03%    9\n",
            "  s      6.57%    6\n",
            "  t      5.11%    5\n",
            "  u      5.83%    6\n",
            "  ú      0.67%    1\n",
            "  v      1.70%    2\n",
            "  w      0.00%    0\n",
            "  x      0.06%    0\n",
            "  y      0.98%    1\n",
            "  ý      0.32%    0\n",
            "  z      0.00%    0\n",
            "  þ      0.42%    0\n",
            "  æ      1.06%    1\n",
            "  ö      1.12%    1\n"
          ]
        }
      ]
    },
    {
      "cell_type": "markdown",
      "source": [
        "# Verkefni 17 - Fallateikning\n",
        "1. Skrifið forrit sem reiknar fallsgildi fallsins:\n",
        "\n",
        "    𝑓(𝑥)=(𝑥+3)(𝑥+2)𝑥(𝑥−2)(𝑥−3)\n",
        "\n",
        "  Prófið t.d. að reikna f(1) (á að gefa 24)\n",
        "\n",
        "2. Búið til vandaða teikningu af fallinu á bilinu [−3.4,3.4] sbr. kafla 9.6. Notið linspace fallið og stikana/föllin xlim, ylim, xticks, yticks, linewidth, color, axvline, axhline, grid, box og tick_params með hæfilegum viðföngum."
      ],
      "metadata": {
        "id": "76qNq9sn76IZ"
      }
    },
    {
      "cell_type": "code",
      "source": [
        "#V17a\n",
        "import math\n",
        "def f(x):\n",
        "    return (x+3)*(x+2)*x*(x-2)*(x-3)\n",
        "\n",
        "\n",
        "y = f(1)\n",
        "print(y)\n",
        "\n"
      ],
      "metadata": {
        "id": "KfMzMzTd76cy",
        "colab": {
          "base_uri": "https://localhost:8080/"
        },
        "outputId": "2c9cd954-abbb-45ec-a37b-cc7b9a544e90"
      },
      "execution_count": null,
      "outputs": [
        {
          "output_type": "stream",
          "name": "stdout",
          "text": [
            "24\n"
          ]
        }
      ]
    },
    {
      "cell_type": "code",
      "source": [
        "from numpy.core.function_base import linspace\n",
        "#V17b\n",
        "#Frumstilling teikningar\n",
        "import matplotlib.pyplot as plt\n",
        "plt.rc('axes', axisbelow=True)\n",
        "plt.rc('figure', figsize=(8,4)) # (6,4) er sjálfgefið\n",
        "plt.rc('savefig',bbox='tight')  # laga galla á savefig\n",
        "\n",
        "\n",
        "def f(x):\n",
        "    return (x+3)*(x+2)*x*(x-2)*(x-3)\n",
        "\n",
        "plt.figure(figsize=(12,4))\n",
        "plt.grid(True)\n",
        "plt.box(False)\n",
        "plt.axvline(c='r')\n",
        "plt.axhline(c='r')\n",
        "x = linspace(-3.4, 3.4)\n",
        "y = [f(i) for i in x]\n",
        "plt.xlim(-3.4,3.4)\n",
        "plt.ylim(-30, 30)\n",
        "plt.tick_params(length=0)\n",
        "plt.title('Fallsgildi fallsins: f(x)=(x+3)(x+2)x(x−2)(x−3)')\n",
        "plt.xlabel('x')\n",
        "plt.ylabel('y=(x+3)(x+2)x(x−2)(x−3)')\n",
        "plt.xticks(rotation=0)\n",
        "plt.yticks(rotation=45)\n",
        "plt.plot(x, y, c='c', lw=2);\n",
        "plt.show()"
      ],
      "metadata": {
        "id": "l2Ey9Mb2_EXv",
        "colab": {
          "base_uri": "https://localhost:8080/",
          "height": 292
        },
        "outputId": "0aedd95e-a743-46af-de15-c6dd1fad323d"
      },
      "execution_count": null,
      "outputs": [
        {
          "output_type": "display_data",
          "data": {
            "image/png": "[encoded data removed]",
            "text/plain": [
              "<Figure size 864x288 with 1 Axes>"
            ]
          },
          "metadata": {
            "needs_background": "light"
          }
        }
      ]
    }
  ]
}