{
  "nbformat": 4,
  "nbformat_minor": 0,
  "metadata": {
    "colab": {
      "provenance": [],
      "authorship_tag": "ABX9TyPo+M5hFy0y7GGTlx3Gb+I2",
      "include_colab_link": true
    },
    "kernelspec": {
      "name": "python3",
      "display_name": "Python 3"
    },
    "language_info": {
      "name": "python"
    }
  },
  "cells": [
    {
      "cell_type": "markdown",
      "metadata": {
        "id": "view-in-github",
        "colab_type": "text"
      },
      "source": [
        "<a href=\"https://colab.research.google.com/github/SvanaBirgis/Reiknifraedi/blob/main/Skilaverkefni/S12.ipynb\" target=\"_parent\"><img src=\"https://colab.research.google.com/assets/colab-badge.svg\" alt=\"Open In Colab\"/></a>"
      ]
    },
    {
      "cell_type": "markdown",
      "source": [
        "##Verkefni 36 - Töluleg diffrun\n",
        "\n"
      ],
      "metadata": {
        "id": "-2uuPCPa3e_O"
      }
    },
    {
      "cell_type": "code",
      "source": [
        "#a\n",
        "\n",
        "from math import sqrt\n",
        "def f(x):\n",
        "    return sqrt(x)\n",
        "\n",
        "def töldiff(f,a,h):\n",
        "        \n",
        "    fa = (f(a+h)-f(a-h))/(2*h)\n",
        "    return fa\n",
        "\n",
        "h = 10**(-4)\n",
        "print(töldiff(f,4,h))"
      ],
      "metadata": {
        "colab": {
          "base_uri": "https://localhost:8080/"
        },
        "id": "ugN_aau83epv",
        "outputId": "abb37a8f-c869-473d-c75c-04d1dccfacc7"
      },
      "execution_count": null,
      "outputs": [
        {
          "output_type": "stream",
          "name": "stdout",
          "text": [
            "0.2500000000205116\n"
          ]
        }
      ]
    },
    {
      "cell_type": "code",
      "execution_count": 23,
      "metadata": {
        "colab": {
          "base_uri": "https://localhost:8080/"
        },
        "id": "D5L0wQS03dO1",
        "outputId": "f656dcba-6258-4077-f942-c451c0671974"
      },
      "outputs": [
        {
          "output_type": "stream",
          "name": "stdout",
          "text": [
            " h: \tFáum:           \t skekkjan: (* = minnsta skekkjan)\n",
            " 1. \t0.25001953659254283  \t 1.9536592542834796e-05  \n",
            " 2. \t0.2500001953130382  \t 1.953130381870949e-07  \n",
            " 3. \t0.25000000195318783  \t 1.953187833692027e-09  \n",
            " 4. \t0.2500000000205116  \t 2.0511592424554692e-11  \n",
            " 5. \t0.2500000000016378  \t 1.637801005927031e-12  *\n",
            " 6. \t0.2499999999239222  \t -7.607781071783393e-11  \n",
            " 7. \t0.24999999959085528  \t -4.091447181053809e-10  \n",
            " 8. \t0.249999987378402  \t -1.2621597988982103e-08  \n",
            " 9. \t0.25000002068509275  \t 2.0685092749772593e-08  \n",
            "10. \t0.25000002068509275  \t 2.0685092749772593e-08  \n"
          ]
        }
      ],
      "source": [
        "#b\n",
        "tafla = [töldiff(f,4,10**(-k)) for k in range(1,11)]\n",
        "min = 99999 \n",
        "mI  = 0     \n",
        "for i in range(len(tafla)):\n",
        "    h = 10**(-i)\n",
        "    a = töldiff(f,4,h)\n",
        "    b = abs((1/(2*sqrt(4)) - tafla[i]))\n",
        "    if (b < min): \n",
        "        mI = i\n",
        "        min = b\n",
        "\n",
        "print(f' h: \\tFáum:           \\t skekkjan: (* = minnsta skekkjan)')\n",
        "for (i,n) in enumerate(tafla,1):\n",
        "  print(f'{i:2}. \\t{n}  \\t {(n - (1/(2*sqrt(4))))}  {\"*\" if i == (mI+1) else \"\"}')"
      ]
    },
    {
      "cell_type": "markdown",
      "source": [
        "##Verkefni 39 - Nálgun við pí"
      ],
      "metadata": {
        "id": "TJ3xxtj-4Vzj"
      }
    },
    {
      "cell_type": "code",
      "source": [
        "#a\n",
        "\n",
        "def taylortan(x,n):\n",
        "    sum = x\n",
        "    liður = x\n",
        "    for i in range(1,n):\n",
        "        k = (2*i)+1\n",
        "        liður *= -x*x\n",
        "        sum += liður/k\n",
        "    return sum\n",
        "\n",
        "\n",
        "\n",
        "print(f'Taylor talan þegar x=0.2 og n=4 er: {taylortan(0.2,4):.9}')"
      ],
      "metadata": {
        "colab": {
          "base_uri": "https://localhost:8080/"
        },
        "id": "GMoQgLt84eeg",
        "outputId": "77933a80-6b00-4458-fddb-5b8c9e802001"
      },
      "execution_count": null,
      "outputs": [
        {
          "output_type": "stream",
          "name": "stdout",
          "text": [
            "Taylor talan þegar x=0.2 og n=4 er: 0.197395505\n"
          ]
        }
      ]
    },
    {
      "cell_type": "code",
      "source": [
        "#b\n",
        "\n",
        "machin = 4*(4*(taylortan(1/5,1000))-taylortan(1/239,1000))\n",
        "print(f'{machin:.15f}')"
      ],
      "metadata": {
        "colab": {
          "base_uri": "https://localhost:8080/"
        },
        "id": "5V7y-g_kL-0Z",
        "outputId": "adcefef6-10ed-4b10-e84b-cad770a76778"
      },
      "execution_count": null,
      "outputs": [
        {
          "output_type": "stream",
          "name": "stdout",
          "text": [
            "3.141592653589794\n"
          ]
        }
      ]
    },
    {
      "cell_type": "markdown",
      "source": [
        "##VV4 - A"
      ],
      "metadata": {
        "id": "8VkNkEJ5QOSZ"
      }
    },
    {
      "cell_type": "code",
      "source": [
        "#b\n",
        "\n",
        "def tveirstikar(a,n):\n",
        "  if a < 0:\n",
        "    return a**n\n",
        "  else:\n",
        "    return sqrt(a**n+a)\n",
        "\n",
        "print(f'Ef a=2 og n=7: {tveirstikar(2,7):.2f}')\n",
        "print(f'Ef a=-2 og n=3: {tveirstikar(-2,3):.2f}')\n"
      ],
      "metadata": {
        "colab": {
          "base_uri": "https://localhost:8080/"
        },
        "id": "qMtvOhpMQafq",
        "outputId": "3379864e-8095-4ab7-e698-939a3c8fd489"
      },
      "execution_count": null,
      "outputs": [
        {
          "output_type": "stream",
          "name": "stdout",
          "text": [
            "Ef a=2 og n=7: 11.40\n",
            "Ef a=-2 og n=3: -8.00\n"
          ]
        }
      ]
    },
    {
      "cell_type": "code",
      "source": [
        "def fall(n):\n",
        "    for i in range(len(n)):\n",
        "        if((n[i]**5) + n[i] == 246):\n",
        "            return i\n",
        "    else: \n",
        "      return -1\n",
        "\n",
        "print(fall([5, 4, 3, 2, 1]))"
      ],
      "metadata": {
        "colab": {
          "base_uri": "https://localhost:8080/"
        },
        "id": "zJ4MW1K2Raml",
        "outputId": "233276e7-fd79-4b56-989e-5dbb550cd236"
      },
      "execution_count": null,
      "outputs": [
        {
          "output_type": "stream",
          "name": "stdout",
          "text": [
            "2\n"
          ]
        }
      ]
    }
  ]
}