{
  "nbformat": 4,
  "nbformat_minor": 0,
  "metadata": {
    "colab": {
      "name": "S5",
      "provenance": [],
      "collapsed_sections": [],
      "include_colab_link": true
    },
    "kernelspec": {
      "name": "python3",
      "display_name": "Python 3"
    },
    "language_info": {
      "name": "python"
    }
  },
  "cells": [
    {
      "cell_type": "markdown",
      "metadata": {
        "id": "view-in-github",
        "colab_type": "text"
      },
      "source": [
        "<a href=\"https://colab.research.google.com/github/SvanaBirgis/Reiknifraedi/blob/main/Skilaverkefni/S5.ipynb\" target=\"_parent\"><img src=\"https://colab.research.google.com/assets/colab-badge.svg\" alt=\"Open In Colab\"/></a>"
      ]
    },
    {
      "cell_type": "markdown",
      "metadata": {
        "id": "rInDhIMNh5qK"
      },
      "source": [
        "# Stærðfræði og reiknifræði vor 2022, skiladæmi 5"
      ]
    },
    {
      "cell_type": "markdown",
      "source": [
        "Nafn: Svana Björg Birgisdóttir\n",
        "\n",
        "Samverkamenn:"
      ],
      "metadata": {
        "id": "CqV6ZfIpicAY"
      }
    },
    {
      "cell_type": "markdown",
      "source": [
        "# Verkefni 12 - Sameining nafnaskrár og einkunnaskrár\n",
        "\n",
        "Útbúnar hafa verið tvær skrár með gervigögnum: Sú fyrri, https://cs.hi.is/python/einkunn.txt inniheldur prófnúmer og einkunnir og sú seinni, https://cs.hi.is/python/nofn.txt, inniheldur prófnúmer og nöfn.\n",
        "\n",
        "1. **Skrá lesin.** Skrifið forrit sem les einkunnaskrána inn í uppflettitöflu (dictionary) eink_tafla þannig að eink_tafla[nr] gefi einkunn próftaka með prófnúmer nr og eink_tafla sbr. fyrra sýnidæmið í kafla 8.2.5. Prófið.\n",
        "\n",
        "2. **Uppflettitafla.** Skráin nofn.txt byrjar svona:\n",
        "\n",
        "\n",
        "    0176  Sigrún Ása Jónsdóttir\n",
        "\n",
        "    0542  Kristín Fjóludóttir\n",
        "\n",
        "    0970  Birta Lárusdóttir\n",
        "\n",
        "  Prófnúmerið er sem sé aðskilið frá nafninu með tveimur bilum og svo er nafnið ýmist með millinafni eða án. Til að höndla þetta er hægt að nota split með viðbótarviðfangi sem tilgreinir hve oft á að skipta. Ef lína er fyrsta línan í skránni mundi\n",
        "\n",
        "    (nr,nafn) = lína.strip().split(maxsplit=1)\n",
        "\n",
        "  skipta strengnum rétt í tvo hluta, númer og nafn (strip() þarf að vera með hér til að losna við línuskiptatákn). Notið þetta trix til að lesa nafnaskrána inn í uppflettitöflu nafn_tafla sem nota má til að fletta upp á nafni útfrá prófnúmeri. Prófið.\n",
        "\n",
        "3. **Úskrift lista.** Skrifið forrit sem rennir í gegn um prófnúmerin í eink_tafla, flettir upp nafni hvers nemanda í nafn_tafla, og skrifar allt þrennt: prófnúmer, einkunn, og nafn.\n",
        "\n",
        "4. **Hæsta einkunn.** Skrifið loks forrit sem ákvarðar hver fékk hæstu einkunnina og skrifar nafn hans/hennar ásamt einkunninni (gera má ráð fyrir að það sé bara einn). Notið lykkju og uppfærið inni í lykkjunni, í hvert sinn sem einkunn er hærri en sú hæsta sem sést hefur, bæði hæstu einkunnina og nafn þess sem hana fékk. Forritið ætti að skrifa: Íris María Birgisdóttir var hæst með 10.0)."
      ],
      "metadata": {
        "id": "qyzKJj0I8RTM"
      }
    },
    {
      "cell_type": "code",
      "source": [
        "# a. Skrá lesin\n",
        "from urllib.request import urlopen\n",
        "f = urlopen(\"https://cs.hi.is/python/einkunn.txt\")\n",
        "eink_tafla = {}\n",
        "for lína in f:\n",
        "   (nr,einkunn) = lína.decode().split()\n",
        "   eink_tafla[nr] = einkunn\n",
        "\n",
        "for (nr, einkunn) in eink_tafla.items():\n",
        "   print(f\"{nr} {einkunn}\")"
      ],
      "metadata": {
        "id": "ifFPCl0q74zP",
        "colab": {
          "base_uri": "https://localhost:8080/"
        },
        "outputId": "63816a81-6478-462c-d430-dcff8996b785"
      },
      "execution_count": null,
      "outputs": [
        {
          "output_type": "stream",
          "name": "stdout",
          "text": [
            "0176 7.0\n",
            "0542 8.0\n",
            "0970 9.5\n",
            "1419 6.5\n",
            "1577 7.0\n",
            "2785 9.0\n",
            "4218 7.0\n",
            "4854 9.0\n",
            "5469 10.0\n",
            "6324 6.5\n",
            "6558 8.5\n",
            "7923 5.5\n",
            "8003 9.5\n",
            "8148 5.0\n",
            "8492 7.5\n",
            "9058 7.5\n",
            "9134 8.0\n",
            "9158 8.0\n",
            "9340 6.5\n",
            "9572 8.0\n",
            "9576 5.5\n",
            "9595 8.5\n",
            "9649 6.5\n",
            "9706 9.0\n"
          ]
        }
      ]
    },
    {
      "cell_type": "code",
      "source": [
        "# b. Uppflettitafla\n",
        "\n",
        "from urllib.request import urlopen\n",
        "f = urlopen(\"https://cs.hi.is/python/nofn.txt\")\n",
        "nafn_tafla = {}\n",
        "for lína in f:\n",
        "   (nr,nafn) = lína.decode().strip().split(maxsplit=1)\n",
        "   nafn_tafla[nr] = nafn\n",
        "\n",
        "\n",
        "for (nr, nafn) in nafn_tafla.items():\n",
        "   print(f\"{nr} {nafn}\")"
      ],
      "metadata": {
        "id": "xxR-FCAe8_kX",
        "colab": {
          "base_uri": "https://localhost:8080/"
        },
        "outputId": "5f089d6b-8435-4358-f3fa-68eca5e99546"
      },
      "execution_count": null,
      "outputs": [
        {
          "output_type": "stream",
          "name": "stdout",
          "text": [
            "0176 Sigrún Ása Jónsdóttir\n",
            "0542 Kristín Fjóludóttir\n",
            "0970 Birta Lárusdóttir\n",
            "1419 Erla Ýr Guðnadóttir\n",
            "1577 Hulda Ósk Jónasdóttir\n",
            "2785 Bjarki Már Sveinsson\n",
            "4218 Kjartan Valur Jónsson\n",
            "4854 Anton Ingi Þórsson\n",
            "5469 Íris María Birgisdóttir\n",
            "6324 Ívar Sigurðsson\n",
            "6558 Ágúst Guðni Ingason\n",
            "7923 Steinunn Guðlaug Gunnarsdóttir\n",
            "8003 Eydís Þorsteinsdóttir\n",
            "8148 Signý Guðrún Pálsdóttir\n",
            "8492 Andri Oddur Steinarsson\n",
            "9058 Elías Ari Heimisson\n",
            "9134 Aðalheiður Pétursdóttir\n",
            "9158 Anna Sveinbjörnsdóttir\n",
            "9340 Bjarni Rúnar Kjartansson\n",
            "9572 Arna Þórisdóttir\n",
            "9576 Mark Johnson\n",
            "9595 Víðir Kristjánsson\n",
            "9649 Anna Kristinsdóttir\n",
            "9706 Jónas Valdimarsson\n"
          ]
        }
      ]
    },
    {
      "cell_type": "code",
      "source": [
        "# c. Útskrift lista\n",
        "\n",
        "for (nr, einkunn) in eink_tafla.items():\n",
        "    print(nr, einkunn, nafn_tafla[nr])\n",
        "    "
      ],
      "metadata": {
        "id": "6Sh48pcXTo4E",
        "colab": {
          "base_uri": "https://localhost:8080/"
        },
        "outputId": "ae21067e-18cd-4bd8-a9ce-76e2d6567096"
      },
      "execution_count": null,
      "outputs": [
        {
          "output_type": "stream",
          "name": "stdout",
          "text": [
            "0176 7.0 Sigrún Ása Jónsdóttir\n",
            "0542 8.0 Kristín Fjóludóttir\n",
            "0970 9.5 Birta Lárusdóttir\n",
            "1419 6.5 Erla Ýr Guðnadóttir\n",
            "1577 7.0 Hulda Ósk Jónasdóttir\n",
            "2785 9.0 Bjarki Már Sveinsson\n",
            "4218 7.0 Kjartan Valur Jónsson\n",
            "4854 9.0 Anton Ingi Þórsson\n",
            "5469 10.0 Íris María Birgisdóttir\n",
            "6324 6.5 Ívar Sigurðsson\n",
            "6558 8.5 Ágúst Guðni Ingason\n",
            "7923 5.5 Steinunn Guðlaug Gunnarsdóttir\n",
            "8003 9.5 Eydís Þorsteinsdóttir\n",
            "8148 5.0 Signý Guðrún Pálsdóttir\n",
            "8492 7.5 Andri Oddur Steinarsson\n",
            "9058 7.5 Elías Ari Heimisson\n",
            "9134 8.0 Aðalheiður Pétursdóttir\n",
            "9158 8.0 Anna Sveinbjörnsdóttir\n",
            "9340 6.5 Bjarni Rúnar Kjartansson\n",
            "9572 8.0 Arna Þórisdóttir\n",
            "9576 5.5 Mark Johnson\n",
            "9595 8.5 Víðir Kristjánsson\n",
            "9649 6.5 Anna Kristinsdóttir\n",
            "9706 9.0 Jónas Valdimarsson\n"
          ]
        }
      ]
    },
    {
      "cell_type": "code",
      "source": [
        "# d. Hæsta einkunn\n",
        "#Notið lykkju og uppfærið inni í lykkjunni, í hvert sinn sem einkunn er hærri en \n",
        "#sú hæsta sem sést hefur, bæði hæstu einkunnina og nafn þess sem hana fékk. \n",
        "#Forritið ætti að skrifa: Íris María Birgisdóttir var hæst með 10.0).\n",
        "\n",
        "\n",
        "\n",
        "max_value = None\n",
        "nrið = None\n",
        "\n",
        "for (nr,einkunn) in eink_tafla.items():\n",
        "    if (max_value is None or float(einkunn) > float(max_value)):\n",
        "        max_value = einkunn\n",
        "        nrið = nr\n",
        "\n",
        "print(f'{nafn_tafla[nrið]} var hæst með {max_value}')\n",
        "\n",
        "\n"
      ],
      "metadata": {
        "id": "YeRfui1Vvlzc",
        "colab": {
          "base_uri": "https://localhost:8080/"
        },
        "outputId": "b9b5e604-2c01-4227-fec8-93da482708fc"
      },
      "execution_count": null,
      "outputs": [
        {
          "output_type": "stream",
          "name": "stdout",
          "text": [
            "Íris María Birgisdóttir var hæst með 10.0\n"
          ]
        }
      ]
    },
    {
      "cell_type": "markdown",
      "source": [
        "# Verkefni 23 - Kosningaúrslit í lit\n",
        "\n",
        "Í kafla 9.3.2 var gefið sýnidæmi um einfalda teikningu súlurits af kosningaúrslitum 2021. Þar voru gögnin lesin með aðstoð urlopen, en í þessu verkefni verða þau lesin með NumPy og jafnframt búið til fínna súlurit þar sem:\n",
        "\n",
        "* súlurnar eru litaðar í flokkslitum\n",
        "\n",
        "* nöfn flokkanna koma neðan við hverja súlu\n",
        "\n",
        "* atkvæði eru sýnd í prósentum\n",
        "\n",
        "* þingsætafjöldi er skrifaður ofan við hverja súlu\n",
        "\n",
        "* ýmis önnur atriði eru lagfærð\n",
        "\n",
        "\n",
        "1. Úrslit kosninganna eru í skránni https://cs.hi.is/python/kosningar-2021.txt. Það eru þrír dálkar, með listabókstaf, atkvæðatölu og þingsætafjölda fyrir hvert framboð. Skrána er hægt að lesa með numpy.loadtxt eins og lýst er í kafla 10.6.3. Skrifið fall lesaúrslit() sem les þessa skrá og skilar þremur listum, listi, atkvæði og þingsæti með innihaldinu. Prófið.\n",
        "\n",
        "2. Flokkslitina má finna á Wikipedíu sem HEX-strengi, en það er í lagi því Matplotlib skilur það. Litirnir hafa verið lagaðir lítilsháttar og settir ásamt flokksnöfnum í skrána https://cs.hi.is/python/flokkslitir.txt. Þar sem flokksnöfnin innihalda bil eru dálkarnir afmarkaðir með kommum. Skráin er sem sé CSV-skrá og hana má lesa eins og útskýrt er í kafla 10.6.4.\n",
        "\n",
        "  Skrifa skal fall lesalitinöfn sem les skrána og skilar þremur strengjalistum, stafur, litur og nafn með innihaldinu. Það er eitt smá-vesen: Litirnir byrja á # sem NumPy tekur sem comment. Til að það gerist ekki þarf að kalla á loadtxt með\n",
        "\n",
        "          A = np.loadtxt(skrá, ..., comments=None).T\n",
        "\n",
        "  Takið eftir að við notum annað breytunafn fyrir listabókstafina en í a-lið svo þau ruglist ekki saman. Prófið.\n",
        "\n",
        "3. Uppflettitöflur. Í kafla 8.2.5 (og í verkefni 20) er sýnt hvernig auðvelt er að búa til uppflettitöflur úr listum. Hér á að nota tvær töflur til að fletta upp lit og nafni sem svara til listabókstafs:\n",
        "\n",
        "          litatafla: listabókstafur ⟶ litur\n",
        "          nafnatafla: listabókstafur ⟶ flokksnafn\n",
        "\n",
        "  Skrifið fall sem býr til þessar töflur og skilar svo tveimur listum þar sem búið er að fletta upp í þeim. Kallið á fallið á að vera:\n",
        "\n",
        "          (litir, nöfn) = litirognöfn(listi,stafur,litur,nafn)\n",
        "\n",
        "  Þegar búið er að búa til litatöfluna má nota yfirgrip (comprehension) til að búa til litalistann:\n",
        "\n",
        "          litir = [litatafla[st] for st in listi]\n",
        "\n",
        "  og eins fyrir nöfnin. Prófið.\n",
        "\n",
        "  [Athugið að það eru 11 stök í vigrunum með kosningaúrslitunum, en 14 í vigrunum sem koma úr b-lið. Hins vegar verða vigrarnir litir og nöfn bara með 11 stökum, því við flettum bara upp á stöfunum í listi sem hefur lengd 11.]\n",
        "\n",
        "4. **Einfalt súlurit.** Nú er auðvelt að búa til fyrstu útgáfu litaða súluritsins. Náð er í nauðsynleg gögn með því kalla á föllin sem búin voru til í liðum a–c. Svo er fjöldi súlna og staðsetning þeirra á x-ás fundin með n = len(listi) og x = range(n). Þá má teikna með:\n",
        "\n",
        "          plt.bar(x, atkvæði, color = litir)\n",
        "\n",
        "5. **Fullgert súlurit.** Nú á smám saman að bæta atriðum við súluritið til að fullgera það. Stækkið myndina með því að nota dpi í plt.figure. Atkvæðahlutfallið er auðvelt að reikna í NumPy með því að deila summu atkvæða upp í atkvæðavigurinn: hlutfall = atkvæði/sum(atkvæði) og nota svo hlutfall í staðinn fyrir atkvæði í plt.bar-skipuninni. Til að fá það sem prósentur má kalla á eftirfarandi (töfra)fall.\n",
        "\n",
        "        def prósentuformat(ás):\n",
        "            \"\"\"merkir ás (\"x\" eða \"y\") með prósentum\"\"\"\n",
        "            from matplotlib.ticker import FuncFormatter\n",
        "            ásar = plt.gca() # get current axes\n",
        "            xy = ásar.xaxis if ás==\"x\" else ásar.yaxis\n",
        "            xy.set_major_formatter(FuncFormatter('{0:.0%}'.format))\n",
        "\n",
        "  Flokkanöfnin eru sett neðan við hverja súlu með xticks-skipun eins og í sýnidæminu í kafla 9.3.2, en hinsvegar þarf að skrifa þau lóðrétt, og það er gert með viðfangi rotation, nánar tiltekið:\n",
        "\n",
        "          plt.xticks(x, nöfn, rotation=\"vertical\")\n",
        "\n",
        "  Þá er eftir að skrifa inn þingsætin. Til þess er notuð skipunin text, sbr. töflu 9.2 og líka fyrra sýnidæmið í kafla 9.3.2. Við förum í lykkju yfir x-hnitin í vigrunum og skrifum hvern þinsætafjölda ofan við sína súlu, t.d. í 13 punkta letri. Vigurinn hlutfall gefur y-hnit fyrir textana.\n",
        "\n",
        "  Þá er bara eftir síðsta töttsið. Stækkum y-ás með plt.ylim(...), bætum við titli, skýringu við y-ás, láréttum netlínum með plt.grid(axis=\"y\"). Mestu snyrtipinnarnir losa sig að lokum við tick-merkin með plt.tick_params(length=0).\n",
        "\n"
      ],
      "metadata": {
        "id": "wai47ngF8gjg"
      }
    },
    {
      "cell_type": "code",
      "source": [
        "# a. Úrslit kosninganna\n",
        "import numpy as np\n",
        "import numpy.linalg as la\n",
        "\n",
        "def lesaúrslit():\n",
        "  skrá = \"https://cs.hi.is/python/kosningar-2021.txt\"\n",
        "  (l,a,þ) = np.loadtxt(skrá, skiprows=1, dtype=str).T\n",
        "  Listi = l.tolist()\n",
        "  Atkvæði = a.tolist()\n",
        "  Þingsæti = þ.astype(int)\n",
        "  return Listi, Atkvæði, Þingsæti\n",
        "\n",
        "\n",
        "Listi, Atkvæði, Þingsæti = lesaúrslit()\n",
        "print(Listi)\n",
        "print(Atkvæði)\n",
        "print(Þingsæti)\n",
        "\n",
        "\n"
      ],
      "metadata": {
        "id": "bIeMsCH475Wr",
        "colab": {
          "base_uri": "https://localhost:8080/"
        },
        "outputId": "f3791a24-f3ff-491d-c9ca-d7c4220d0044"
      },
      "execution_count": null,
      "outputs": [
        {
          "output_type": "stream",
          "name": "stdout",
          "text": [
            "['B', 'C', 'D', 'F', 'J', 'M', 'O', 'P', 'S', 'V', 'Y']\n",
            "['34501', '16628', '48708', '17672', '8181', '10879', '836', '17233', '19825', '25114', '144']\n",
            "[13  5 16  6  0  3  0  6  6  8  0]\n"
          ]
        }
      ]
    },
    {
      "cell_type": "code",
      "source": [
        "# b. Flokkslitir\n",
        "\n",
        "import numpy as np\n",
        "import numpy.linalg as la\n",
        "import matplotlib.pyplot as plt\n",
        "\n",
        "\n",
        "skrá = \"https://cs.hi.is/python/flokkslitir.txt\"\n",
        "\n",
        "def lesalitinöfn():\n",
        "  s,l,n = np.loadtxt(skrá, skiprows=1, delimiter=',', dtype=str, comments=None).T\n",
        "\n",
        "  Stafur = s.tolist()\n",
        "  Litur = l.tolist()\n",
        "  Nöfn = n.tolist()\n",
        "\n",
        "  return Stafur, Litur, Nöfn\n",
        "\n",
        "Stafur, Litur, Nöfn = lesalitinöfn()\n",
        "print(Stafur)\n",
        "print(Litur)\n",
        "print(Nöfn)"
      ],
      "metadata": {
        "id": "F8LATaNdwHZX",
        "colab": {
          "base_uri": "https://localhost:8080/"
        },
        "outputId": "0d907027-f17c-458e-f785-fd86b70bc4b9"
      },
      "execution_count": null,
      "outputs": [
        {
          "output_type": "stream",
          "name": "stdout",
          "text": [
            "['D', 'V', 'P', 'B', 'C', 'A', 'S', 'T', 'M', 'R', 'J', 'F', 'O', 'Y']\n",
            "['#00adef', '#488e41', '#522c7f', '#8ec83e', '#FFA400', '#92278f', '#da2128', '#eab943', '#199094', '#da2128', '#ff3500', '#ffd600', '#9f522d', '#808080']\n",
            "['Sjálfstæðisflokkur', 'Vinstri grænir', 'Píratar', 'Framsóknarflokkur', 'Viðreisn', 'Björt framtíð', 'Samfylking', 'Dögun', 'Miðflokkur', 'Alþýðufylking', 'Sósíalistaflokkur', 'Flokkur fólksins', 'Frjálslyndi lýðræðisfl.', 'Ábyrg framtíð']\n"
          ]
        }
      ]
    },
    {
      "cell_type": "code",
      "source": [
        "# c. Uppflettitöflur\n",
        "\n",
        "from urllib.request import urlopen\n",
        "f = urlopen(\"https://cs.hi.is/python/flokkslitir.txt\")\n",
        "skrá = \"https://cs.hi.is/python/kosningar-2021.txt\"\n",
        "litatafla = {}\n",
        "nafnatafla = {}\n",
        "def litirognöfn(listi, stafur, litur, nafn):\n",
        "  for i in range(len(stafur)):\n",
        "    litatafla[stafur[i]] = litur[i]\n",
        "    nafnatafla[stafur[i]] = nafn[i]\n",
        "\n",
        "  litir = [litatafla[st] for st in listi]\n",
        "  nöfn = [nafnatafla[st] for st in listi] # mby pæla seinna\n",
        "\n",
        "  return litir, nöfn\n",
        "\n",
        "(litir, nöfn) = litirognöfn(Listi, Stafur, Litur, Nöfn)\n",
        "\n",
        "for i in range(len(Listi)):\n",
        "  print(litir[i], nöfn[i])\n",
        "\n"
      ],
      "metadata": {
        "id": "hsr2W2vJwIgh",
        "colab": {
          "base_uri": "https://localhost:8080/"
        },
        "outputId": "46cda7c8-21ad-4fe9-b644-f981239e7c47"
      },
      "execution_count": null,
      "outputs": [
        {
          "output_type": "stream",
          "name": "stdout",
          "text": [
            "#8ec83e Framsóknarflokkur\n",
            "#FFA400 Viðreisn\n",
            "#00adef Sjálfstæðisflokkur\n",
            "#ffd600 Flokkur fólksins\n",
            "#ff3500 Sósíalistaflokkur\n",
            "#199094 Miðflokkur\n",
            "#9f522d Frjálslyndi lýðræðisfl.\n",
            "#522c7f Píratar\n",
            "#da2128 Samfylking\n",
            "#488e41 Vinstri grænir\n",
            "#808080 Ábyrg framtíð\n"
          ]
        }
      ]
    },
    {
      "cell_type": "code",
      "source": [
        "# d. Einfalt súlurit\n",
        "#fjöldi súlna og staðsetning þeirra á x-ás fundin með n = len(listi) og x = range(n). Þá má teikna með:\n",
        "#plt.bar(x, atkvæði, color = litir)\n",
        "\n",
        "import matplotlib.pyplot as plt\n",
        "plt.rc('axes', axisbelow=True)\n",
        "\n",
        "def litirognöfn(listi, stafur, litur, nafn):\n",
        "  return litir, nöfn\n",
        "\n",
        "def lesalitinöfn():\n",
        "  return Stafur, Litur, Nöfn\n",
        "\n",
        "def lesaúrslit():\n",
        "  return Listi, Atkvæði, Þingsæti\n",
        "\n",
        "\n",
        "x = range(len(listi))\n",
        "plt.bar(x, atkvæði, color = litir)\n"
      ],
      "metadata": {
        "id": "T4KJdRpkwJi_",
        "colab": {
          "base_uri": "https://localhost:8080/",
          "height": 282
        },
        "outputId": "c0683e6c-c865-4f2f-83dd-33e81dc4395e"
      },
      "execution_count": null,
      "outputs": [
        {
          "output_type": "execute_result",
          "data": {
            "text/plain": [
              "<BarContainer object of 11 artists>"
            ]
          },
          "metadata": {},
          "execution_count": 131
        },
        {
          "output_type": "display_data",
          "data": {
            "image/png": "[encoded data removed]",
            "text/plain": [
              "<Figure size 432x288 with 1 Axes>"
            ]
          },
          "metadata": {
            "needs_background": "light"
          }
        }
      ]
    },
    {
      "cell_type": "code",
      "source": [
        "# e. Fullgert súlurit\n",
        "\n",
        "import matplotlib.pyplot as plt\n",
        "plt.rc('axes', axisbelow=True)\n",
        "\n",
        "def litirognöfn(listi, stafur, litur, nafn):\n",
        "  return litir, nöfn\n",
        "\n",
        "def lesalitinöfn():\n",
        "  return Stafur, Litur, Nöfn\n",
        "\n",
        "def lesaúrslit():\n",
        "  return Listi, Atkvæði, Þingsæti\n",
        "\n",
        "\n",
        "x = range(len(listi))\n",
        "\n",
        "plt.figure(dpi=90)\n",
        "plt.xticks(x, nöfn, rotation=\"vertical\")\n",
        "Atkvæði = np.array([int(x) for x in Atkvæði])\n",
        "\n",
        "hlutfall = Atkvæði/sum(Atkvæði)\n",
        "\n",
        "\n",
        "def prósentuformat(ás):\n",
        "  \"\"\"merkir ás (\"x\" eða \"y\") með prósentum\"\"\"\n",
        "  from matplotlib.ticker import FuncFormatter\n",
        "  ásar = plt.gca() # get current axes\n",
        "  xy = ásar.xaxis if ás==\"x\" else ásar.yaxis\n",
        "  xy.set_major_formatter(FuncFormatter('{0:.0%}'.format))\n",
        "\n",
        "\n",
        "#for (x,y,n) in zip(Atkvæði, Þingsæti, nöfn):\n",
        "#  plt.text(x, y, n + \" \", fontsize=13, color='Black',\n",
        "#           ha=\"right\", va=\"center\")\n",
        "\n",
        "plt.ylim(0,60000)\n",
        "plt.grid(axis=\"y\")\n",
        "plt.tick_params(length=0)\n",
        "plt.ylabel('Atkvæði')\n",
        "plt.title('Úrslit alþingiskosninga 2021')\n",
        "plt.bar(x, atkvæði, color = litir)"
      ],
      "metadata": {
        "colab": {
          "base_uri": "https://localhost:8080/",
          "height": 483
        },
        "id": "62hH_2eHaetZ",
        "outputId": "33f1ec86-04e1-4ff2-8ce6-53bd252d706e"
      },
      "execution_count": null,
      "outputs": [
        {
          "output_type": "execute_result",
          "data": {
            "text/plain": [
              "<BarContainer object of 11 artists>"
            ]
          },
          "metadata": {},
          "execution_count": 145
        },
        {
          "output_type": "display_data",
          "data": {
            "image/png": "[encoded data removed]",
            "text/plain": [
              "<Figure size 540x360 with 1 Axes>"
            ]
          },
          "metadata": {
            "needs_background": "light"
          }
        }
      ]
    }
  ]
}