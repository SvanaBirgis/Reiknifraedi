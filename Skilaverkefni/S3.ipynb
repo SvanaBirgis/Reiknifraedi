{
  "nbformat": 4,
  "nbformat_minor": 0,
  "metadata": {
    "colab": {
      "name": "S3",
      "provenance": [],
      "collapsed_sections": [],
      "authorship_tag": "ABX9TyNbjTqgy63Egf25JAOUaL9/",
      "include_colab_link": true
    },
    "kernelspec": {
      "name": "python3",
      "display_name": "Python 3"
    },
    "language_info": {
      "name": "python"
    }
  },
  "cells": [
    {
      "cell_type": "markdown",
      "metadata": {
        "id": "view-in-github",
        "colab_type": "text"
      },
      "source": [
        "<a href=\"https://colab.research.google.com/github/SvanaBirgis/Reiknifraedi/blob/main/Skilaverkefni/S3.ipynb\" target=\"_parent\"><img src=\"https://colab.research.google.com/assets/colab-badge.svg\" alt=\"Open In Colab\"/></a>"
      ]
    },
    {
      "cell_type": "markdown",
      "source": [
        "##Verkefni 5 - Kvaðratrót\n",
        "Um útreikning kvaðratrótar er fjallað í kafla 7.5 í Think Python kennslubókinni. Þar stendur að hægt sé að nota Newtons aðferð, og að ef byrjað er með einhverja nálgun 𝑥 við sqrt(a) þá fáist betri nálgun, 𝑦 með því að reikna:\n",
        "\n",
        "(∗) 𝑦=(𝑥+a/x)/2\n",
        "\n",
        "Formúluna má m.a. rökstyðja þannig að ef 𝑥 er nákvæmt gildi þá er $𝑥^2=𝑎$ svo að 𝑥=𝑎/𝑥. Hinsvegar ef 𝑥 er aðeins minna en kvaðratrótin þá þá verður 𝑎/𝑥 aðeins stærra en hún (og öfugt) og því ætti meðaltal 𝑥 og 𝑎/𝑥 að vera betri nálgun. Svo má athuga hve nálgunin er góð með því að skoða muninn á 𝑥 og 𝑦. Ef t.d.\n",
        "\n",
        "(∗∗)   |𝑥−𝑦|<𝜀\n",
        "\n",
        "þar sem 𝜀=10−4 er hún orðin nokkuð góð.\n",
        "\n",
        "1. Skrifið Python-fall, krót(a) sem útfærir þessa hugmynd. Byrjið með upphafsgildið x = 1 og finnið svo betri og betri lausn með því að nota while-lykkju sem reiknar (∗) aftur og aftur og heldur áfram þangað til (∗∗) er uppfyllt. Prófið að reikna sqrt(9) og sqrt(10) (rétt gildi 3.16227766017).\n",
        "\n",
        "2. Búið nú til nýja útgáfu af fallinu sem er með tvo inntaksstika, töluna a og nákvæmnikröfu eps, og telur auk þess hve margar ítrekanir eru teknar. Látið það skila bæði lokanálguninni og ítrekanafjöldanum (sbr. fyrra sýnidæmið í kafla 4.7). Skrifið niðurstöður með hæfilegum skýringartextum: lokanálgun, ítrekanafjölda, og muninn á réttri kvaðratrót og lokanálgun. Prófið með nokkrum mismunandi gildum á 𝑎 (m.a. eitthvað mjög stórt gildi) og 𝜀, (m.a. gildi sem er ekkert mjög lítið, t.d. 0.1 eða 0.01). Bætið við textareit og skrifið örfá orð um niðurstöðu þessarar prófunar.\n"
      ],
      "metadata": {
        "id": "NFKnbrK4hkL8"
      }
    },
    {
      "cell_type": "code",
      "source": [
        "#1\n",
        "import math\n",
        "def krót(a):\n",
        "  x = 1\n",
        "  y = (x + a/x)/2\n",
        "  while True:\n",
        "    x = y\n",
        "    y = (x + a/x)/2\n",
        "    if x == y:\n",
        "      break\n",
        "  return y\n",
        "\n",
        "print(krót(9))\n",
        "krót(10) "
      ],
      "metadata": {
        "colab": {
          "base_uri": "https://localhost:8080/"
        },
        "id": "IXC1fgrACudD",
        "outputId": "a3abaf74-4b46-4e0f-9d48-15c33c9d2cad"
      },
      "execution_count": null,
      "outputs": [
        {
          "output_type": "stream",
          "name": "stdout",
          "text": [
            "3.0\n"
          ]
        },
        {
          "output_type": "execute_result",
          "data": {
            "text/plain": [
              "3.162277660168379"
            ]
          },
          "metadata": {},
          "execution_count": 51
        }
      ]
    },
    {
      "cell_type": "code",
      "source": [
        "#2\n",
        "import math\n",
        "def krót(a, eps):\n",
        "  x = 1\n",
        "  y = (x + a/x)/2\n",
        "  count = 0\n",
        "  while True:\n",
        "    x = y\n",
        "    y = (x + a/x)/2\n",
        "    count += 1\n",
        "    if abs(x-y) <= eps:\n",
        "      break\n",
        "  print(f'a = {a} og eps = {eps}')\n",
        "\n",
        "  print(f'lokanálgun: {y:.3f}') \n",
        "  print(f'ítrekanafjöldi: {count}')\n",
        "  print(f'munurinn á réttri kvaðratrót og lokanálgun: {abs(math.sqrt(a)-y)}')\n",
        "  print( )\n",
        "  return y\n",
        " \n",
        "\n",
        "krót(1000000, 0.1)\n",
        "krót(1000000, 0.01)\n",
        "krót(3000000, 0.1)\n",
        "krót(3000000, 0.01)\n",
        "krót(10000000, 0.1)\n",
        "krót(10000000, 0.01)\n",
        "print( )"
      ],
      "metadata": {
        "colab": {
          "base_uri": "https://localhost:8080/"
        },
        "id": "tdPaEyxd4IUE",
        "outputId": "296d75f4-e5a6-4208-f7ff-a3350773e2de"
      },
      "execution_count": null,
      "outputs": [
        {
          "output_type": "stream",
          "name": "stdout",
          "text": [
            "a = 1000000 og eps = 0.1\n",
            "lokanálgun: 1000.000\n",
            "ítrekanafjöldi: 13\n",
            "munurinn á réttri kvaðratrót og lokanálgun: 1.1823431123048067e-11\n",
            "\n",
            "a = 1000000 og eps = 0.01\n",
            "lokanálgun: 1000.000\n",
            "ítrekanafjöldi: 13\n",
            "munurinn á réttri kvaðratrót og lokanálgun: 1.1823431123048067e-11\n",
            "\n",
            "a = 3000000 og eps = 0.1\n",
            "lokanálgun: 1732.051\n",
            "ítrekanafjöldi: 14\n",
            "munurinn á réttri kvaðratrót og lokanálgun: 2.2737367544323206e-13\n",
            "\n",
            "a = 3000000 og eps = 0.01\n",
            "lokanálgun: 1732.051\n",
            "ítrekanafjöldi: 14\n",
            "munurinn á réttri kvaðratrót og lokanálgun: 2.2737367544323206e-13\n",
            "\n",
            "a = 10000000 og eps = 0.1\n",
            "lokanálgun: 3162.278\n",
            "ítrekanafjöldi: 15\n",
            "munurinn á réttri kvaðratrót og lokanálgun: 4.547473508864641e-13\n",
            "\n",
            "a = 10000000 og eps = 0.01\n",
            "lokanálgun: 3162.278\n",
            "ítrekanafjöldi: 15\n",
            "munurinn á réttri kvaðratrót og lokanálgun: 4.547473508864641e-13\n",
            "\n",
            "\n"
          ]
        }
      ]
    },
    {
      "cell_type": "markdown",
      "source": [
        "Svo virðist að það sé nóg að hafa epsiilon ekki mjög litla tölu til að fá góða nálgun. Fjöldi ítrekana sem þarf eykst með hækkandi gildi á a en a þarf að stækka heldur mikið til að það þurfi auka ítrun."
      ],
      "metadata": {
        "id": "bZvPBXHsKXyh"
      }
    },
    {
      "cell_type": "markdown",
      "source": [
        "##Verkefni 6 Meðaltal og staðalfrávik\n",
        "Skrifið fall tölfræði(x) sem skilar pari (m, s) með meðaltali og staðalfráviki stakanna í listanum x með því að nota formúlurnar:\n",
        "\n",
        "$m = \\frac{1}{n} \\sum_{i=0}^{n-1} x[i]$\n",
        "\n",
        "$s = \\sqrt{\\frac{1}{n-1} \\sum_{i=0}^{n-1} (x[i]-m)^2}$ \n",
        "\n",
        "\n",
        "Prófið með x = [3,7,7,1] \n",
        "\n",
        "(á að skila [4.5, 3.0]) og líka með lista [d,m,á] búnum til úr fæðingardegi.."
      ],
      "metadata": {
        "id": "pqZsTQLNkU0o"
      }
    },
    {
      "cell_type": "code",
      "source": [
        "import math \n",
        "def tölfræði(x):\n",
        "  n = len(x)\n",
        "  m = sum(x) / n\n",
        "  s = math.sqrt(sum([(i-m)**2 for i in x]) / (n-1))\n",
        "  return [m, s]\n",
        "     #m = (1/n)*math.sum(n-1, i=0)*x*[i]\n",
        "\n",
        "print(tölfræði([3,7,7,1]))\n",
        "tölfræði([15,3,99])"
      ],
      "metadata": {
        "colab": {
          "base_uri": "https://localhost:8080/"
        },
        "id": "fvJmUS-i61IK",
        "outputId": "35fb5f8b-c436-4414-ed4a-b72109eaab4b"
      },
      "execution_count": null,
      "outputs": [
        {
          "output_type": "stream",
          "name": "stdout",
          "text": [
            "[4.5, 3.0]\n"
          ]
        },
        {
          "output_type": "execute_result",
          "data": {
            "text/plain": [
              "[39.0, 52.306787322488084]"
            ]
          },
          "metadata": {},
          "execution_count": 21
        }
      ]
    },
    {
      "cell_type": "markdown",
      "source": [
        "##Verkefni 7 Bóluröðun\n",
        "Hér er reiknirit sem raðar n-staka lista x með bóluröðun bubble sort, sem snýst um að rúlla í gegn um stökin og ef tvö samliggjandi stök eru í öfugri röð þá er víxlað á þeim. Þetta er endurtekið þar til öll stökin eru í röð. Minnstu stökin bobbla smám saman eins og loftbólur fremst í listann.\n",
        "\n",
        "    víxlað = satt\n",
        "    meðan víxlað\n",
        "      víxlað = ósatt\n",
        "      fyrir i=1,...,n-1:\n",
        "          ef x[i-1] > x[i] þá\n",
        "             víxla á x[i-1] og x[i]\n",
        "            víxlað = satt\n",
        "            \n",
        "Þýðið þetta reiknirit yfir í Python-fall bóluröðun(x). Athugið að til að víxla á breytum x og y má nota (x,y) = (y,x). Prófið með því að raða listanum [3,8,1,2,5,4]."
      ],
      "metadata": {
        "id": "OWcq_3bOkgHW"
      }
    },
    {
      "cell_type": "code",
      "source": [
        "import math\n",
        "def bólröðun(x):\n",
        "  n = len(x)\n",
        "  víxlað = True\n",
        "  while víxlað:\n",
        "    víxlað = False\n",
        "    for i in range (1,n):\n",
        "      if x[i-1] > x[i]:\n",
        "        x[i-1],x[i] = x[i],x[i-1]\n",
        "        víxlað = True\n",
        "  return x\n",
        "\n",
        "bólröðun([3,8,1,2,5,4])"
      ],
      "metadata": {
        "colab": {
          "base_uri": "https://localhost:8080/"
        },
        "id": "88uv9-1plFv-",
        "outputId": "16522f9c-e2b8-4c95-cc2b-010fe96e61af"
      },
      "execution_count": null,
      "outputs": [
        {
          "output_type": "execute_result",
          "data": {
            "text/plain": [
              "[1, 2, 3, 4, 5, 8]"
            ]
          },
          "metadata": {},
          "execution_count": 32
        }
      ]
    },
    {
      "cell_type": "markdown",
      "source": [
        "##Verkefni 8 Pólhnit\n",
        "\n",
        "1. Skrifið fall pol2rec(r,theta) sem skilar pari (x,y), til að breyta úr pólhnitum yfir í rétthyrnd hnit með eftirfarandi formúlum:\n",
        "\n",
        "  $𝑥 = 𝑟 cos 𝜃 $\n",
        "\n",
        "  $𝑦 = 𝑟 sin 𝜃$\n",
        "\n",
        "  Prófið að breyta (𝑟,𝜃)=(4,35°) yfir í rétthyrnd hnit 𝑥 og 𝑦 (á að gefa 𝑥=3.277, 𝑦=2.294). Munið að nota math.radians til að breyta gráðum í radíana.\n",
        "\n",
        "2. Skrifið svo annað fall, rec2pol(x,y) sem skilar (r,theta) og breytir í hina áttina með formúlunum:\n",
        "\n",
        "  $𝜃=atan2(𝑦,𝑥)$\n",
        "\n",
        "  $r=\\sqrt{𝑥^2+𝑦^2}$\n",
        "\n",
        "  Prófið að breyta svarinu sem fékkst í a-lið aftur til baka í pólhnit."
      ],
      "metadata": {
        "id": "qapJUcWCksUZ"
      }
    },
    {
      "cell_type": "code",
      "source": [
        "#1\n",
        "import math\n",
        "def pol2rec(r, theta):\n",
        "  g = math.radians(theta)\n",
        "  x = r*math.cos(g)\n",
        "  y = r*math.sin(g)\n",
        "  return x, y\n",
        "\n",
        "x,y = pol2rec(4, 35)\n",
        "\n",
        "print(f'{x:.3f}')\n",
        "print(f'{y:.3f}')"
      ],
      "metadata": {
        "colab": {
          "base_uri": "https://localhost:8080/"
        },
        "id": "1DhikphqOdnk",
        "outputId": "a6d03690-ce22-4ff0-b833-217e9563a200"
      },
      "execution_count": null,
      "outputs": [
        {
          "output_type": "stream",
          "name": "stdout",
          "text": [
            "3.277\n",
            "2.294\n"
          ]
        }
      ]
    },
    {
      "cell_type": "code",
      "source": [
        "#2\n",
        "import math\n",
        "def rec2pol(x, y):\n",
        "  theta = math.degrees(math.atan2(y, x))\n",
        "  r = math.sqrt(x**2+y**2)\n",
        "  return theta, r\n",
        "\n",
        "theta, r = rec2pol(3.277, 2.294)\n",
        "\n",
        "print(f'{r:.4f}')\n",
        "print(f'{theta:.3f}')"
      ],
      "metadata": {
        "colab": {
          "base_uri": "https://localhost:8080/"
        },
        "id": "Mf0m_HcmOyi8",
        "outputId": "ccd97a6b-1800-428c-eae5-5baa056e6aff"
      },
      "execution_count": null,
      "outputs": [
        {
          "output_type": "stream",
          "name": "stdout",
          "text": [
            "4.0001\n",
            "34.993\n"
          ]
        }
      ]
    }
  ]
}