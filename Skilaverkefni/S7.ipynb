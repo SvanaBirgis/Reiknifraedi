{
  "nbformat": 4,
  "nbformat_minor": 0,
  "metadata": {
    "colab": {
      "name": "S7",
      "provenance": [],
      "collapsed_sections": [],
      "include_colab_link": true
    },
    "kernelspec": {
      "name": "python3",
      "display_name": "Python 3"
    },
    "language_info": {
      "name": "python"
    }
  },
  "cells": [
    {
      "cell_type": "markdown",
      "metadata": {
        "id": "view-in-github",
        "colab_type": "text"
      },
      "source": [
        "<a href=\"https://colab.research.google.com/github/SvanaBirgis/Reiknifraedi/blob/main/Skilaverkefni/S7.ipynb\" target=\"_parent\"><img src=\"https://colab.research.google.com/assets/colab-badge.svg\" alt=\"Open In Colab\"/></a>"
      ]
    },
    {
      "cell_type": "markdown",
      "metadata": {
        "id": "rInDhIMNh5qK"
      },
      "source": [
        "# **Stærðfræði og reiknifræði vor 2022, skiladæmi 7, fyrri hluti (V25)**"
      ]
    },
    {
      "cell_type": "markdown",
      "source": [
        "Nafn: Svana Björg Birgisdóttir\n",
        "\n",
        "Samverkamenn:"
      ],
      "metadata": {
        "id": "CqV6ZfIpicAY"
      }
    },
    {
      "cell_type": "markdown",
      "source": [
        "# Verkefni 25 - Reikningar með NumPy \n",
        "\n",
        "> Indented block\n",
        "\n",
        "\n",
        "\n"
      ],
      "metadata": {
        "id": "qyzKJj0I8RTM"
      }
    },
    {
      "cell_type": "code",
      "source": [
        "import numpy as np\n",
        "\n",
        "a = np.array([3,2,8])\n",
        "b = np.array([2,0,1])\n",
        "c = np.array([-2,1,5])\n",
        "\n",
        "A = np.array([[2,4,7],\n",
        "              [3,4,8],\n",
        "              [4,6,9]])\n",
        "B = np.array([[5,5,5],\n",
        "              [6,6,6],\n",
        "              [7,8,9]])"
      ],
      "metadata": {
        "id": "csnW8FTQWFWW"
      },
      "execution_count": null,
      "outputs": []
    },
    {
      "cell_type": "code",
      "source": [
        "# a\n",
        "import numpy.linalg as la\n",
        "\n",
        "before = a@b\n",
        "over = c@(B@b)\n",
        "under = 3*(la.norm(c))\n",
        "\n",
        "print(before-over/under)"
      ],
      "metadata": {
        "id": "ifFPCl0q74zP",
        "colab": {
          "base_uri": "https://localhost:8080/"
        },
        "outputId": "418515dd-0b8b-4fd9-b175-ac3a76731949"
      },
      "execution_count": null,
      "outputs": [
        {
          "output_type": "stream",
          "name": "stdout",
          "text": [
            "7.731619619663099\n"
          ]
        }
      ]
    },
    {
      "cell_type": "code",
      "source": [
        "# b\n",
        "\n",
        "print(2*(A.T + (la.matrix_power(B, 2)))*(a-2*b))"
      ],
      "metadata": {
        "id": "xxR-FCAe8_kX",
        "colab": {
          "base_uri": "https://localhost:8080/"
        },
        "outputId": "018a12d4-b87b-4b0e-ec68-69377ef507bb"
      },
      "execution_count": null,
      "outputs": [
        {
          "output_type": "stream",
          "name": "stdout",
          "text": [
            "[[-184  392 1248]\n",
            " [-224  472 1512]\n",
            " [-306  652 2076]]\n"
          ]
        }
      ]
    },
    {
      "cell_type": "code",
      "source": [
        "# c\n",
        "\n",
        "print(f'det(A): {la.det(A)}')\n",
        "\n",
        "print(f'Inverted: {la.inv(A)}')"
      ],
      "metadata": {
        "id": "6Sh48pcXTo4E",
        "colab": {
          "base_uri": "https://localhost:8080/"
        },
        "outputId": "15df62e5-a431-43a5-b59b-98bd77beb669"
      },
      "execution_count": null,
      "outputs": [
        {
          "output_type": "stream",
          "name": "stdout",
          "text": [
            "det(A): 10.000000000000002\n",
            "Inverted: [[-1.2  0.6  0.4]\n",
            " [ 0.5 -1.   0.5]\n",
            " [ 0.2  0.4 -0.4]]\n"
          ]
        }
      ]
    },
    {
      "cell_type": "code",
      "source": [
        "# d\n",
        "\n",
        "print(la.solve(A,b))"
      ],
      "metadata": {
        "id": "YeRfui1Vvlzc",
        "colab": {
          "base_uri": "https://localhost:8080/"
        },
        "outputId": "6c01426f-0d71-42a5-8645-030074011702"
      },
      "execution_count": null,
      "outputs": [
        {
          "output_type": "stream",
          "name": "stdout",
          "text": [
            "[-2.   1.5  0. ]\n"
          ]
        }
      ]
    },
    {
      "cell_type": "code",
      "source": [
        "# e\n",
        "p = np.array([[1,1], \n",
        "              [5,10]])\n",
        "q = np.array([23, 170])\n",
        "svar = la.solve(p,q)\n",
        "\n",
        "print(f'Fimmkallar: {svar[0]}') #5 kallar\n",
        "print(f'Tíkallar: {svar[1]}') #10 kallar"
      ],
      "metadata": {
        "id": "2sTtkVm62pnP",
        "colab": {
          "base_uri": "https://localhost:8080/"
        },
        "outputId": "7577f8b7-d07e-4990-d22a-ed039b64a35c"
      },
      "execution_count": null,
      "outputs": [
        {
          "output_type": "stream",
          "name": "stdout",
          "text": [
            "Fimmkallar: 12.0\n",
            "Tíkallar: 11.0\n"
          ]
        }
      ]
    },
    {
      "cell_type": "code",
      "source": [
        "#2\n",
        "def leysa(n):\n",
        "   A = np.zeros((n,n))\n",
        "   b = np.zeros((n,1))\n",
        "   for i in range(n):\n",
        "      for j in range(0,i-1):\n",
        "        A[n-1,j] = 2            \n",
        "      A[i,i] = 1  \n",
        "   b[n-1] = -2\n",
        "   x = la.solve(A, b)\n",
        "   return x\n",
        "\n",
        "leysa(4)"
      ],
      "metadata": {
        "colab": {
          "base_uri": "https://localhost:8080/"
        },
        "id": "vEPP1qmOFHXG",
        "outputId": "48d3bfaa-500c-44e4-e474-bdb3c2971ecf"
      },
      "execution_count": null,
      "outputs": [
        {
          "output_type": "execute_result",
          "data": {
            "text/plain": [
              "array([[ 0.],\n",
              "       [ 0.],\n",
              "       [ 0.],\n",
              "       [-2.]])"
            ]
          },
          "metadata": {},
          "execution_count": 46
        }
      ]
    }
  ]
}